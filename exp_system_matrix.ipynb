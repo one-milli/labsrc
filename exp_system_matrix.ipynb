{
 "cells": [
  {
   "cell_type": "code",
   "execution_count": null,
   "metadata": {},
   "outputs": [],
   "source": [
    "import numpy as np\n",
    "import matplotlib.pyplot as plt\n",
    "from PIL import Image\n",
    "import localConfig\n",
    "import random\n",
    "import seaborn as sns\n",
    "import os\n",
    "import re\n",
    "import gc"
   ]
  },
  {
   "cell_type": "code",
   "execution_count": null,
   "metadata": {},
   "outputs": [],
   "source": [
    "# 行列Hをテンソルに変換\n",
    "def matrix_to_tensor(H, m, n):\n",
    "    H_tensor = np.zeros((m, m, n, n))\n",
    "    for i in range(m):\n",
    "        for j in range(m):\n",
    "            for k in range(n):\n",
    "                for l in range(n):\n",
    "                    H_tensor[i, j, k, l] = H[i * m + j, k * n + l]\n",
    "    return H_tensor\n",
    "\n",
    "# テンソルHを使ってHfを計算\n",
    "def transform_image(H_tensor, f):\n",
    "    m, _, n, _ = H_tensor.shape\n",
    "    g = np.zeros((m, m))\n",
    "    for i in range(m):\n",
    "        for j in range(m):\n",
    "            for k in range(n):\n",
    "                for l in range(n):\n",
    "                    g[i, j] += H_tensor[i, j, k, l] * f[k, l]\n",
    "    return g"
   ]
  },
  {
   "cell_type": "code",
   "execution_count": null,
   "metadata": {},
   "outputs": [],
   "source": [
    "# folder_pathにある画像を読み込んで行列に変換\n",
    "def images_to_matrix(folder_path, convert_gray=False, is_binary=False, seed=0, ratio=1.0, use_all=False):\n",
    "    files = os.listdir(folder_path)\n",
    "    files.sort(key=lambda f: int(re.search('hadamard_(\\d+).png', f).group(1)))\n",
    "\n",
    "    if seed != 0:\n",
    "        random.seed(seed)\n",
    "        random.shuffle(files)\n",
    "\n",
    "    total_files = len(files)\n",
    "    number_of_files_to_load = int(total_files * ratio)\n",
    "\n",
    "    if use_all:\n",
    "        selected_files = files[:number_of_files_to_load]\n",
    "        selected_files.sort(key=lambda f: int(re.search('hadamard_(\\d+).png', f).group(1)))\n",
    "    else:\n",
    "        selected_indices = []\n",
    "        a = np.arange(0, 4096).reshape(64, 64)\n",
    "        a = np.triu(a)\n",
    "        a = a.flatten().tolist()\n",
    "        selected_indices = [i for i in a if i != 0]\n",
    "        selected_indices.insert(0, 0)\n",
    "        # for i in range(0, 64):\n",
    "        #     range_i= list(range(63+63*i, 64*(i+1)))\n",
    "        #     selected_indices += range_i\n",
    "        selected_files = [files[i] for i in selected_indices if i < total_files]\n",
    "\n",
    "    images = []\n",
    "    use_list = []\n",
    "\n",
    "    for file in selected_files:\n",
    "        index = int(re.sub(r'\\D', '', file))\n",
    "        use_list.append(index)\n",
    "        img = Image.open(os.path.join(folder_path, file))\n",
    "        img = img.convert('L')\n",
    "        if is_binary:\n",
    "            img = img.point(lambda _: 255 if _ else 0, 'L')\n",
    "        img_array = np.asarray(img).flatten()\n",
    "        img_array = img_array / 255\n",
    "        images.append(img_array)\n",
    "\n",
    "    # diff = list(set(range(1, len(files)+1))-set(use_list))\n",
    "    # print(\"Didn't use:\", sorted(diff))\n",
    "    # print(\"Used:\", use_list)\n",
    "\n",
    "    return np.column_stack(images)\n",
    "\n",
    "\n",
    "# FISTAでHを求める\n",
    "def update_H(H, G, F, lmd, threshold):\n",
    "    i = 1\n",
    "    t = 1\n",
    "    L = max_eigenvalue(F.T @ F) * 3\n",
    "    print('L: {}'.format(L))\n",
    "    H_1_prev = H.copy()\n",
    "    H_2_prev = H.copy()\n",
    "    while True:\n",
    "        t_new = (1 + np.sqrt(1 + 4 * t**2)) / 2\n",
    "        grad = 2 * (H_2_prev @ F - G) @ F.T\n",
    "        H_1 = soft_thresh(H_2_prev - (1 / L) * grad, lmd / L)\n",
    "        H_2 = H_1 + (t - 1) / t_new * (H_1 - H_1_prev)\n",
    "        error = np.linalg.norm(H_2 - H_2_prev, 'fro')\n",
    "\n",
    "        print('iter: {}, error: {}'.format(i, error))\n",
    "        if error < threshold:\n",
    "            break\n",
    "        t = t_new.copy()\n",
    "        H_1_prev = H_1.copy()\n",
    "        H_2_prev = H_2.copy()\n",
    "        i += 1\n",
    "    return H_2\n",
    "\n",
    "\n",
    "def max_eigenvalue(A):\n",
    "    eigenvalues, eigenvectors = np.linalg.eig(A)\n",
    "    return np.max(eigenvalues)\n",
    "\n",
    "\n",
    "def soft_thresh(x, lambda_val):\n",
    "    return np.sign(x) * np.maximum(np.abs(x) - lambda_val, 0)"
   ]
  },
  {
   "cell_type": "code",
   "execution_count": null,
   "metadata": {},
   "outputs": [],
   "source": [
    "# パラメータ設定\n",
    "n = 64\n",
    "m = 128\n",
    "lmd = 10\n",
    "threshold = 0.001\n",
    "seed = 0"
   ]
  },
  {
   "cell_type": "code",
   "execution_count": null,
   "metadata": {},
   "outputs": [],
   "source": [
    "# 真のシステム行列の計算\n",
    "G_full = images_to_matrix(localConfig.DATA_PATH + '/hadamard' + str(n) + '_cap_R_230516_128/', convert_gray=True, use_all=True)\n",
    "F_full = images_to_matrix(localConfig.DATA_PATH + '/Hadamard' + str(n) + '_input/', is_binary=True, use_all=True)\n",
    "H1 = np.zeros((m**2, n**2))\n",
    "G1s = []\n",
    "for i in range(n**2):\n",
    "    G1s.append(G_full[:, 0])\n",
    "H1 = np.column_stack(G1s)\n",
    "F_hat_full = 2 * F_full - 1\n",
    "G_hat_full = 2 * G_full - H1\n",
    "H_true = G_hat_full @ F_hat_full.T / (n**2)"
   ]
  },
  {
   "cell_type": "code",
   "execution_count": null,
   "metadata": {},
   "outputs": [],
   "source": [
    "plt.figure(figsize=(12, 12))\n",
    "sns.heatmap(G_full[:, 1].reshape(m, m), annot=False, cmap='viridis')"
   ]
  },
  {
   "cell_type": "code",
   "execution_count": null,
   "metadata": {},
   "outputs": [],
   "source": [
    "np.save(localConfig.DATA_PATH + '/systemMatrix/H_matrix_true.npy', H_true)"
   ]
  },
  {
   "cell_type": "code",
   "execution_count": null,
   "metadata": {},
   "outputs": [],
   "source": []
  }
 ],
 "metadata": {
  "kernelspec": {
   "display_name": "Python 3",
   "language": "python",
   "name": "python3"
  },
  "language_info": {
   "codemirror_mode": {
    "name": "ipython",
    "version": 3
   },
   "file_extension": ".py",
   "mimetype": "text/x-python",
   "name": "python",
   "nbconvert_exporter": "python",
   "pygments_lexer": "ipython3",
   "version": "undefined.undefined.undefined"
  }
 },
 "nbformat": 4,
 "nbformat_minor": 2
}
