{
 "cells": [
  {
   "cell_type": "code",
   "execution_count": null,
   "metadata": {},
   "outputs": [],
   "source": [
    "import os\n",
    "import math\n",
    "import numpy as np\n",
    "import cupy as cp\n",
    "import matplotlib.pyplot as plt\n",
    "import cupyx.scipy.sparse as csp\n",
    "from IPython.display import display\n",
    "from PIL import Image\n",
    "import package.myUtil as myUtil"
   ]
  },
  {
   "cell_type": "code",
   "execution_count": null,
   "metadata": {},
   "outputs": [],
   "source": [
    "os.environ[\"CUDA_VISIBLE_DEVICES\"] = \"0\"\n",
    "n = 128\n",
    "DO_THIN_OUT = False\n",
    "SAVE_AS_SPARSE = True\n",
    "# DATA_PATH = \"../../OneDrive - m.titech.ac.jp/Lab/data\"\n",
    "DATA_PATH = \"../data\"\n",
    "IMG_NAME = \"hadamard\"\n",
    "CAP_DATE = \"241114\"\n",
    "EXP_DATE = \"241202\"\n",
    "DIRECTORY = f\"{DATA_PATH}/{EXP_DATE}\"\n",
    "SETTING = f\"gf\"\n",
    "\n",
    "if not os.path.exists(DIRECTORY):\n",
    "    os.makedirs(DIRECTORY)\n",
    "if not os.path.exists(DIRECTORY + \"/systemMatrix\"):\n",
    "    os.makedirs(DIRECTORY + \"/systemMatrix\")"
   ]
  },
  {
   "cell_type": "code",
   "execution_count": null,
   "metadata": {},
   "outputs": [],
   "source": [
    "use_list = myUtil.get_use_list(n*n, 1.0)\n",
    "G = myUtil.images2matrix(f\"{DATA_PATH}/{IMG_NAME}{n}_cap_{CAP_DATE}/\", use_list, thin_out=DO_THIN_OUT)\n",
    "F = myUtil.images2matrix(f\"{DATA_PATH}/{IMG_NAME}{n}_input/\", use_list).astype(cp.int8)\n",
    "M, K = G.shape\n",
    "N, K = F.shape\n",
    "print(\"G shape:\", G.shape, \"F shape:\", F.shape, \"M=\", M, \"N=\", N, \"K=\", K)\n",
    "print(\"G max:\", G.max(), \"G min:\", G.min(), \"F max:\", F.max(), \"F min:\", F.min())\n",
    "\n",
    "black = myUtil.calculate_bias(M, DATA_PATH, CAP_DATE)\n",
    "B = cp.tile(black[:, None], K)\n",
    "\n",
    "G = G - B\n",
    "\n",
    "white_img = Image.open(f\"{DATA_PATH}/capture_{CAP_DATE}/White.png\").convert(\"L\")\n",
    "white = (cp.asarray(white_img) / 255).astype(cp.float32)\n",
    "if DO_THIN_OUT:\n",
    "    white = white[::2, ::2].ravel() - black\n",
    "else:\n",
    "    white = white.ravel() - black\n",
    "H1 = cp.tile(white[:, None], K)\n",
    "\n",
    "F_hat = 2 * F - 1\n",
    "G_hat = 2 * G - H1\n",
    "del F, G, H1"
   ]
  },
  {
   "cell_type": "code",
   "execution_count": null,
   "metadata": {},
   "outputs": [],
   "source": [
    "H = G_hat @ F_hat.T / N\n",
    "# H[:, 0] = H[:, 1]\n",
    "print(\"H shape:\", H.shape)"
   ]
  },
  {
   "cell_type": "code",
   "execution_count": null,
   "metadata": {},
   "outputs": [],
   "source": [
    "if SAVE_AS_SPARSE:\n",
    "    # Thresholding\n",
    "    threshold = 1e-4\n",
    "    H = cp.where(cp.abs(H) < threshold, 0, H)\n",
    "    H_csp = csp.csr_matrix(H)\n",
    "    print(f\"shape: {H_csp.shape}, nnz: {H_csp.nnz}({H_csp.nnz / H_csp.shape[0] / H_csp.shape[1] * 100:.2f}%)\")\n",
    "    H_np = {\n",
    "        \"data\": cp.asnumpy(H_csp.data),\n",
    "        \"indices\": cp.asnumpy(H_csp.indices),\n",
    "        \"indptr\": cp.asnumpy(H_csp.indptr),\n",
    "        \"shape\": H_csp.shape\n",
    "    }\n",
    "    np.savez(f\"{DIRECTORY}/systemMatrix/H_matrix_{SETTING}.npz\", **H_np)\n",
    "    print(f\"Saved {DIRECTORY}/systemMatrix/H_matrix_{SETTING}.npz\")\n",
    "    myUtil.plot_sparse_matrix_cupy(H_csp, row_range=(5500, 6000), col_range=(4500, 5000), markersize=1)\n",
    "else:\n",
    "    cp.save(f\"{DIRECTORY}/systemMatrix/H_matrix_{SETTING}.npy\", H)\n",
    "    print(f\"Saved {DIRECTORY}/systemMatrix/H_matrix_{SETTING}.npy\")"
   ]
  },
  {
   "cell_type": "code",
   "execution_count": null,
   "metadata": {},
   "outputs": [],
   "source": [
    "SAMPLE_NAME = \"Cameraman\"\n",
    "sample_image = Image.open(f\"{DATA_PATH}/sample_image{n}/{SAMPLE_NAME}.png\").convert(\"L\")\n",
    "sample_image = cp.asarray(sample_image).flatten() / 255\n",
    "\n",
    "m = int(math.sqrt(M))\n",
    "FILENAME = f\"{SAMPLE_NAME}_{SETTING}.png\"\n",
    "if SAVE_AS_SPARSE:\n",
    "    Hf = H_csp @ sample_image + black\n",
    "else:\n",
    "    Hf = H @ sample_image + black\n",
    "Hf = cp.asnumpy(Hf.reshape(m, m))\n",
    "print(\"Hf shape:\", Hf.shape)\n",
    "\n",
    "Hf_pil = Image.fromarray((Hf * 255).astype(np.uint8), mode=\"L\")\n",
    "Hf_pil.save(f\"{DIRECTORY}/{FILENAME}\", format='PNG')\n",
    "print(f\"Saved {DIRECTORY}/{FILENAME}\")\n",
    "display(Hf_pil)\n",
    "\n",
    "plt.imshow(Hf, cmap='gray', interpolation='nearest')\n",
    "plt.colorbar()\n",
    "plt.title('Grayscale Heatmap')\n",
    "plt.show()"
   ]
  }
 ],
 "metadata": {
  "kernelspec": {
   "display_name": "Python 3",
   "language": "python",
   "name": "python3"
  },
  "language_info": {
   "codemirror_mode": {
    "name": "ipython",
    "version": 3
   },
   "file_extension": ".py",
   "mimetype": "text/x-python",
   "name": "python",
   "nbconvert_exporter": "python",
   "pygments_lexer": "ipython3",
   "version": "3.10.12"
  }
 },
 "nbformat": 4,
 "nbformat_minor": 2
}
