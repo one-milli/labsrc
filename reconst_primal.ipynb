{
 "cells": [
  {
   "cell_type": "code",
   "execution_count": null,
   "metadata": {},
   "outputs": [],
   "source": [
    "import os\n",
    "import numpy as np\n",
    "import cupy as cp\n",
    "import package.myUtil as myUtil\n",
    "from PIL import Image\n",
    "from IPython.display import display"
   ]
  },
  {
   "cell_type": "code",
   "execution_count": null,
   "metadata": {},
   "outputs": [],
   "source": [
    "DATA_PATH = '../data'\n",
    "OBJ_NAME = \"Cameraman\"\n",
    "H_SETTING = \"gf\"\n",
    "# H_SETTING = \"int_p-5_lmd-100_to-True\"\n",
    "# H_SETTING = \"p-5_lmd-100_to-False\"\n",
    "CAP_DATE = \"241114\"\n",
    "EXP_DATE = \"241127\"\n",
    "n = 128\n",
    "m = 255"
   ]
  },
  {
   "cell_type": "code",
   "execution_count": null,
   "metadata": {},
   "outputs": [],
   "source": [
    "def create_D(n):\n",
    "    I = cp.eye(n**2)\n",
    "\n",
    "    Dx = I - cp.roll(I, 1, axis=1)\n",
    "    Dx[n - 1 :: n, :] = 0\n",
    "\n",
    "    Dy = I - cp.roll(I, n, axis=1)\n",
    "    Dy[-n:, :] = 0\n",
    "\n",
    "    D = cp.vstack([Dx, Dy])\n",
    "\n",
    "    return D"
   ]
  },
  {
   "cell_type": "code",
   "execution_count": null,
   "metadata": {},
   "outputs": [],
   "source": [
    "def gradient(f):\n",
    "    \"\"\"Forward difference gradient operator.\"\"\"\n",
    "    grad = cp.zeros_like(f)\n",
    "    grad[:-1] = f[1:] - f[:-1]\n",
    "    grad[-1] = 0  # Boundary condition\n",
    "    return grad\n",
    "\n",
    "\n",
    "def divergence(p):\n",
    "    \"\"\"Adjoint of the gradient operator.\"\"\"\n",
    "    div = cp.zeros_like(p)\n",
    "    div[0] = -p[0]\n",
    "    div[1:] = -(p[1:] - p[:-1])\n",
    "    return div\n",
    "\n",
    "\n",
    "def primal_dual(H, g, tau, max_iter=100, theta=1.0):\n",
    "    n = H.shape[1]\n",
    "    f = cp.zeros(n)\n",
    "    f_prev = f.copy()\n",
    "    p = cp.zeros(n)\n",
    "    D = create_D(n)\n",
    "\n",
    "    # Parameters\n",
    "    L = 2  # Operator norm of the gradient (for 1D case)\n",
    "    tau = tau\n",
    "    sigma = 1.0 / (tau * L**2)\n",
    "\n",
    "    for k in range(max_iter):\n",
    "        # Extrapolation step\n",
    "        f_bar = f + theta * (f - f_prev)\n",
    "\n",
    "        # Dual variable update\n",
    "        q = p + sigma * D @ f_bar\n",
    "        p = q / cp.maximum(1.0, cp.abs(q) / tau)\n",
    "\n",
    "        # Save previous f\n",
    "        f_prev = f.copy()\n",
    "\n",
    "        # Primal variable update\n",
    "        grad_F = -2 * H.T @ (g - H @ f)\n",
    "        f = f - tau * (grad_F + divergence(p))\n",
    "\n",
    "        # Projection onto [0,1]^n\n",
    "        f = cp.clip(f, 0, 1)\n",
    "\n",
    "        error = cp.linalg.norm(f - f_prev)\n",
    "        print(f\"error: {error}\")\n",
    "\n",
    "        # (Optional) Check for convergence\n",
    "        if error < 1e-5:\n",
    "            break\n",
    "\n",
    "    return f"
   ]
  },
  {
   "cell_type": "code",
   "execution_count": null,
   "metadata": {},
   "outputs": [],
   "source": [
    "captured = Image.open(f\"{DATA_PATH}/capture_{CAP_DATE}/{OBJ_NAME}.png\").convert(\"L\")\n",
    "captured = cp.asarray(captured)\n",
    "black = myUtil.calculate_bias(m**2, DATA_PATH, CAP_DATE)\n",
    "g = captured.ravel() - black"
   ]
  },
  {
   "cell_type": "code",
   "execution_count": null,
   "metadata": {},
   "outputs": [],
   "source": [
    "H = cp.load(f\"{DATA_PATH}/{EXP_DATE}/systemMatrix/H_matrix_{H_SETTING}.npy\").astype(cp.float32)\n",
    "print(\"H shape:\", H.shape, \"type(H):\", type(H), \"H.dtype:\", H.dtype)"
   ]
  },
  {
   "cell_type": "code",
   "execution_count": null,
   "metadata": {},
   "outputs": [],
   "source": [
    "tau = 1\n",
    "\n",
    "f_est = primal_dual(H, g, tau, max_iter=500)\n",
    "f_est = cp.asnumpy(f_est.reshape(n, n))\n",
    "f_image = Image.fromarray((f_est * 255).astype(np.uint8), mode=\"L\")\n",
    "display(f_image)\n",
    "\n",
    "if not os.path.exists(f\"{DATA_PATH}/{EXP_DATE}/reconst\"):\n",
    "    os.makedirs(f\"{DATA_PATH}/{EXP_DATE}/reconst\")\n",
    "SAVE_PATH = f\"{DATA_PATH}/{EXP_DATE}/reconst/{OBJ_NAME}_{H_SETTING}_primal_t-{tau}.png\"\n",
    "f_image.save(SAVE_PATH, format=\"PNG\")\n",
    "print(SAVE_PATH)"
   ]
  }
 ],
 "metadata": {
  "kernelspec": {
   "display_name": "Python 3",
   "language": "python",
   "name": "python3"
  },
  "language_info": {
   "codemirror_mode": {
    "name": "ipython",
    "version": 3
   },
   "file_extension": ".py",
   "mimetype": "text/x-python",
   "name": "python",
   "nbconvert_exporter": "python",
   "pygments_lexer": "ipython3",
   "version": "3.11.8"
  }
 },
 "nbformat": 4,
 "nbformat_minor": 2
}
