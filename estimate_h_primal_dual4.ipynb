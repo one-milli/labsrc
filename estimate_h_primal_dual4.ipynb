{
 "cells": [
  {
   "cell_type": "markdown",
   "metadata": {},
   "source": [
    "## 最適化問題\n",
    "\n",
    "$$ \\min_h \\frac{1}{2}\\|\\bm{g}-(I\\otimes F^\\top) \\bm{h}\\|_2^2+\\lambda_1\\|\\bm{h}\\|_{1,2}^2$$\n"
   ]
  },
  {
   "cell_type": "code",
   "execution_count": 1,
   "metadata": {},
   "outputs": [],
   "source": [
    "import os\n",
    "import math\n",
    "from typing import Callable\n",
    "import cupy as cp\n",
    "import numpy as np\n",
    "import matplotlib.pyplot as plt\n",
    "from PIL import Image\n",
    "import package.myUtil as myUtil"
   ]
  },
  {
   "cell_type": "code",
   "execution_count": 2,
   "metadata": {},
   "outputs": [],
   "source": [
    "n = 64\n",
    "m = 128\n",
    "N = n**2\n",
    "M = m**2\n",
    "LAMBDA1 = 1\n",
    "LAMBDA2 = 1\n",
    "TAU = 1e-4\n",
    "SIGMA = 1e-4\n",
    "SEED = 5\n",
    "RATIO = 0.05\n",
    "ITER = 1000\n",
    "DATA_PATH = \"../../OneDrive - m.titech.ac.jp/Lab/data\"\n",
    "# DATA_PATH = \"../data\"\n",
    "IMG_NAME = \"hadamard\"\n",
    "DIRECTORY = DATA_PATH + \"/241014\"\n",
    "SETTING = f\"{IMG_NAME}_pr-du_nh_p-{int(100*RATIO)}_lmd1-{LAMBDA1}_lmd2-{LAMBDA2}_t{int(math.log10(TAU))}_s{int(math.log10(SIGMA))}\"\n",
    "\n",
    "if not os.path.exists(DIRECTORY):\n",
    "    os.makedirs(DIRECTORY)\n",
    "if not os.path.exists(DIRECTORY + \"/systemMatrix\"):\n",
    "    os.makedirs(DIRECTORY + \"/systemMatrix\")"
   ]
  },
  {
   "cell_type": "code",
   "execution_count": 3,
   "metadata": {},
   "outputs": [],
   "source": [
    "def print_memory_usage(message):\n",
    "    mempool = cp.get_default_memory_pool()\n",
    "    used_bytes = mempool.used_bytes()\n",
    "    total_bytes = mempool.total_bytes()\n",
    "    print(f\"{message}: Used memory: {used_bytes / 1024**3:.2f} GB, Total memory: {total_bytes / 1024**3:.2f} GB\")"
   ]
  },
  {
   "cell_type": "code",
   "execution_count": 4,
   "metadata": {},
   "outputs": [],
   "source": [
    "def calculate_1st_term(Gt, Ft, Ht):\n",
    "    print(\"calculate_1st_term start\")\n",
    "    return cp.linalg.norm(Gt - Ft @ Ht) ** 2\n",
    "\n",
    "\n",
    "def calculate_2nd_term(H):\n",
    "    print(\"calculate_2nd_term start\")\n",
    "    column_sums = cp.sum(cp.abs(H), axis=1)\n",
    "    result = cp.sum(column_sums**2)\n",
    "    return result"
   ]
  },
  {
   "cell_type": "code",
   "execution_count": 5,
   "metadata": {},
   "outputs": [],
   "source": [
    "def prox_l122(Ht: cp.ndarray, gamma: float) -> cp.ndarray:\n",
    "    l1_norms = cp.sum(cp.absolute(Ht), axis=1)\n",
    "    factor = (2 * gamma) / (1 + 2 * gamma * N)\n",
    "    X = cp.zeros_like(Ht)\n",
    "    X = cp.sign(Ht) * cp.maximum(cp.absolute(Ht) - factor * l1_norms[:, None], 0)\n",
    "    return X\n",
    "\n",
    "\n",
    "def prox_tv(y: cp.ndarray, gamma: float) -> cp.ndarray:\n",
    "    l2 = cp.linalg.norm(y.reshape(-1, 4, order=\"F\"), axis=1, keepdims=True)\n",
    "    l2 = cp.maximum(1 - gamma / (l2 + 1e-16), 0)\n",
    "    return (l2 * y.reshape(-1, 4, order=\"F\")).ravel(order=\"F\")\n",
    "\n",
    "\n",
    "def prox_conj(y: cp.ndarray, prox: Callable[[cp.ndarray, float], cp.ndarray], gamma: float) -> cp.ndarray:\n",
    "    \"\"\"Conjugate proximal operator.\"\"\"\n",
    "    return y - gamma * prox(y / gamma, 1 / gamma)\n",
    "\n",
    "\n",
    "def primal_dual_splitting(\n",
    "    Ft: cp.ndarray, Gt: cp.ndarray, lambda1: float, lambda2: float, max_iter: int = ITER\n",
    ") -> tuple[cp.ndarray, dict]:\n",
    "\n",
    "    N = Ft.shape[1]\n",
    "    M = Gt.shape[1]\n",
    "    print_memory_usage(\"Before initializing variables\")\n",
    "    Ht = cp.zeros((N, M), dtype=cp.float32)\n",
    "    Ht_old = cp.zeros_like(Ht)\n",
    "    print_memory_usage(\"After initializing variables\")\n",
    "\n",
    "    tau = TAU\n",
    "    sigma = SIGMA\n",
    "    print(f\"tau={tau}, sigma={sigma}\")\n",
    "\n",
    "    for k in range(max_iter):\n",
    "        Ht_old[:] = Ht[:]\n",
    "\n",
    "        Ht[:] = prox_l122(\n",
    "            Ht_old - tau * (Ft.T @ (Ft @ Ht - Gt)),\n",
    "            lambda1 * tau,\n",
    "        )\n",
    "\n",
    "        if k % 100 == 99:\n",
    "            primal_residual = cp.linalg.norm(Ht - Ht_old) / cp.linalg.norm(Ht)\n",
    "            print(f\"iter={k}, primal_res={primal_residual:.8e}\")\n",
    "            print(\"1st\", calculate_1st_term(Gt, Ft, Ht))\n",
    "            print(\"2nd\", calculate_2nd_term(Ht))\n",
    "            if cp.isnan(primal_residual):\n",
    "                print(\"NaN detected in residuals, stopping optimization.\")\n",
    "                break\n",
    "            # if primal_residual < 1e-3:\n",
    "                # print(\"Convergence criteria met.\")\n",
    "                # break\n",
    "        else:\n",
    "            print(f\"iter={k}\")\n",
    "\n",
    "    primal_residual = cp.linalg.norm(Ht - Ht_old)\n",
    "    print(f\"Final iteration {k+1}, primal_res={primal_residual:.8e}\")\n",
    "    print_memory_usage(\"After optimization\")\n",
    "\n",
    "    info = {\n",
    "        \"iterations\": k + 1,\n",
    "        \"primal_residual\": primal_residual,\n",
    "    }\n",
    "\n",
    "    return Ht, info"
   ]
  },
  {
   "cell_type": "code",
   "execution_count": null,
   "metadata": {},
   "outputs": [],
   "source": [
    "# load images\n",
    "INFO = \"cap_R_230516_128\"\n",
    "# INFO = \"cap_240814\"\n",
    "G, _ = myUtil.images_to_matrix(f\"{DATA_PATH}/{IMG_NAME}{n}_{INFO}/\", ratio=RATIO, resize=True, ressize=m)\n",
    "F, _ = myUtil.images_to_matrix(f\"{DATA_PATH}/{IMG_NAME}{n}_input/\", ratio=RATIO)\n",
    "K = F.shape[1]\n",
    "print(\"K=\", K)\n",
    "white_img = Image.open(f\"{DATA_PATH}/{IMG_NAME}{n}_{INFO}/{IMG_NAME}_1.png\").convert(\"L\")\n",
    "white_img = white_img.resize((m, m))\n",
    "white = np.asarray(white_img).ravel() / 255\n",
    "white = white[:, np.newaxis]\n",
    "H1 = np.tile(white, F.shape[1])\n",
    "F_hat = 2 * F - 1\n",
    "G_hat = 2 * G - H1\n",
    "# G_vec = G_hat.ravel(order=\"F\")"
   ]
  },
  {
   "cell_type": "code",
   "execution_count": null,
   "metadata": {},
   "outputs": [],
   "source": [
    "F_hat_T_gpu = cp.asarray(F_hat.T).astype(cp.int8)\n",
    "G_hat_T_gpu = cp.asarray(G_hat.T).astype(cp.float32)\n",
    "\n",
    "print(f\"F device: {F_hat_T_gpu.device}\")\n",
    "print(f\"g device: {G_hat_T_gpu.device}\")\n",
    "del F, G, H1, F_hat, G_hat"
   ]
  },
  {
   "cell_type": "code",
   "execution_count": null,
   "metadata": {},
   "outputs": [],
   "source": [
    "h, info = primal_dual_splitting(F_hat_T_gpu, G_hat_T_gpu, LAMBDA1, LAMBDA2)"
   ]
  },
  {
   "cell_type": "code",
   "execution_count": null,
   "metadata": {},
   "outputs": [],
   "source": [
    "Ht = h.reshape(N, M, order=\"F\")\n",
    "np.save(f\"{DIRECTORY}/systemMatrix/H_matrix_{SETTING}.npy\", Ht.T.get())\n",
    "print(f\"Saved {DIRECTORY}/systemMatrix/H_matrix_{SETTING}.npy\")\n",
    "\n",
    "SAMPLE_NAME = \"Cameraman\"\n",
    "sample_image = Image.open(f\"{DATA_PATH}/sample_image{n}/{SAMPLE_NAME}.png\").convert('L')\n",
    "sample_image = cp.asarray(sample_image).ravel() / 255\n",
    "\n",
    "Hf = Ht.T @ sample_image\n",
    "Hf_img = cp.asnumpy(Hf.reshape(m, m))\n",
    "Hf_img = np.clip(Hf_img, 0, 1)\n",
    "Hf_pil = Image.fromarray((Hf_img * 255).astype(np.uint8), mode='L')\n",
    "\n",
    "FILENAME = f\"{SAMPLE_NAME}_{SETTING}.png\"\n",
    "fig, ax = plt.subplots(figsize=Hf_img.shape[::-1], dpi=1, tight_layout=True)\n",
    "ax.imshow(Hf_pil, cmap='gray')\n",
    "ax.axis('off')\n",
    "fig.savefig(f\"{DIRECTORY}/{FILENAME}\", dpi=1)\n",
    "# plt.show()\n",
    "print(f\"Saved {DIRECTORY}/{FILENAME}\")"
   ]
  },
  {
   "cell_type": "code",
   "execution_count": null,
   "metadata": {},
   "outputs": [],
   "source": [
    "setting1 = \"hadamard_pr-du_nh_p-5_lmd1-1_lmd2-1_t-4_s-4\"\n",
    "setting2 = \"hadamard_pr-du_p-5_lmd1-1_lmd2-1_t-4_s-4\"\n",
    "H1 = cp.load(f\"{DIRECTORY}/systemMatrix/H_matrix_{setting1}.npy\")\n",
    "H2 = cp.load(f\"{DIRECTORY}/systemMatrix/H_matrix_{setting2}.npy\")\n",
    "rem = cp.linalg.norm(H1 - H2, 'fro')\n",
    "print(f\"rem: {rem}\")"
   ]
  }
 ],
 "metadata": {
  "kernelspec": {
   "display_name": "Python 3",
   "language": "python",
   "name": "python3"
  },
  "language_info": {
   "codemirror_mode": {
    "name": "ipython",
    "version": 3
   },
   "file_extension": ".py",
   "mimetype": "text/x-python",
   "name": "python",
   "nbconvert_exporter": "python",
   "pygments_lexer": "ipython3",
   "version": "3.11.8"
  }
 },
 "nbformat": 4,
 "nbformat_minor": 2
}
