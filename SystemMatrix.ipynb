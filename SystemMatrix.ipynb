{
 "cells": [
  {
   "cell_type": "code",
   "execution_count": null,
   "metadata": {},
   "outputs": [],
   "source": [
    "import os\n",
    "import numpy as np\n",
    "import system_matrix_rgb\n",
    "import matplotlib.pyplot as plt\n",
    "import seaborn as sns\n",
    "from PIL import Image"
   ]
  },
  {
   "cell_type": "code",
   "execution_count": null,
   "metadata": {},
   "outputs": [],
   "source": [
    "m = 128\n",
    "DATA_PATH = '../../../OneDrive - m.titech.ac.jp/Lab/data'\n",
    "SystemMatrix = system_matrix_rgb.SystemMatrix(DATA_PATH, 'hadamard')\n",
    "H = SystemMatrix.generate()\n",
    "print(H.shape)\n",
    "np.save(f\"{DATA_PATH}/systemMatrix/H_matrix_true_RGB.npy\", H)\n",
    "print(\"System matrix saved\")"
   ]
  },
  {
   "cell_type": "code",
   "execution_count": null,
   "metadata": {},
   "outputs": [],
   "source": [
    "sample_image = Image.open(f\"{DATA_PATH}/sample_image64/hadamard_32.png\")\n",
    "sample_image = np.asarray(sample_image).flatten()\n",
    "sample_image = np.concatenate((sample_image, np.zeros(4096), np.zeros(4096)))\n",
    "\n",
    "Hf = H @ sample_image\n",
    "gr, gg, gb = np.split(Hf, 3)\n",
    "gr = gr.reshape(m, m)\n",
    "gg = gg.reshape(m, m)\n",
    "gb = gb.reshape(m, m)\n",
    "gr = np.clip(gr, 0, 1)\n",
    "gg = np.clip(gg, 0, 1)\n",
    "gb = np.clip(gb, 0, 1)\n",
    "Hf_img = np.dstack((gr, gg, gb)) * 255\n",
    "Hf_pil = Image.fromarray((Hf_img).astype(np.uint8))\n",
    "\n",
    "# plt.figure(figsize=(8, 10))\n",
    "# sns.heatmap(H[0:16384,0:4096], annot=False, cmap='viridis')\n",
    "\n",
    "plt.imshow(Hf_pil)\n",
    "plt.axis('off')\n",
    "plt.show()"
   ]
  }
 ],
 "metadata": {
  "kernelspec": {
   "display_name": "Python 3",
   "language": "python",
   "name": "python3"
  },
  "language_info": {
   "codemirror_mode": {
    "name": "ipython",
    "version": 3
   },
   "file_extension": ".py",
   "mimetype": "text/x-python",
   "name": "python",
   "nbconvert_exporter": "python",
   "pygments_lexer": "ipython3",
   "version": "3.11.8"
  }
 },
 "nbformat": 4,
 "nbformat_minor": 2
}
