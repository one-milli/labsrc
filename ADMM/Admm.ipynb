{
 "cells": [
  {
   "cell_type": "code",
   "execution_count": null,
   "metadata": {},
   "outputs": [],
   "source": [
    "import numpy as np\n",
    "import matplotlib.pyplot as plt\n",
    "import scipy.sparse as sp\n",
    "import scipy.io as sio\n",
    "from PIL import Image\n",
    "import admm"
   ]
  },
  {
   "cell_type": "code",
   "execution_count": null,
   "metadata": {},
   "outputs": [],
   "source": [
    "# DATA_PATH = '../../../OneDrive - m.titech.ac.jp/Lab/data'\n",
    "DATA_PATH = '../data'\n",
    "n = 128\n",
    "m = 256\n",
    "tau = 1e-3"
   ]
  },
  {
   "cell_type": "code",
   "execution_count": null,
   "metadata": {},
   "outputs": [],
   "source": [
    "def createDrgb(n):\n",
    "    I = sp.eye(n**2, format=\"lil\")\n",
    "\n",
    "    Dx = I - sp.lil_matrix(np.roll(I.toarray(), 1, axis=1))\n",
    "    Dx[n - 1 :: n, :] = 0\n",
    "    Dy = I - sp.lil_matrix(np.roll(I.toarray(), n, axis=1))\n",
    "    Dy[-n:, :] = 0\n",
    "    D0 = sp.lil_matrix((n**2, n**2))\n",
    "\n",
    "    D = sp.block_array([[Dx, D0, D0], [D0, Dx, D0], [D0, D0, Dx], [Dy, D0, D0], [D0, Dy, D0], [D0, D0, Dy]])\n",
    "\n",
    "    return D\n",
    "\n",
    "\n",
    "def createDmono(n):\n",
    "    I = sp.eye(n**2, format=\"lil\")\n",
    "\n",
    "    Dx = I - sp.lil_matrix(np.roll(I.toarray(), 1, axis=1))\n",
    "    Dx[n - 1 :: n, :] = 0\n",
    "    Dy = I - sp.lil_matrix(np.roll(I.toarray(), n, axis=1))\n",
    "    Dy[-n:, :] = 0\n",
    "\n",
    "    D = sp.block_array([Dx, Dy])\n",
    "\n",
    "    return D\n",
    "\n",
    "\n",
    "# D = createDrgb(n\n",
    "D = createDmono(n)"
   ]
  },
  {
   "cell_type": "code",
   "execution_count": null,
   "metadata": {},
   "outputs": [],
   "source": [
    "captured = Image.open(f\"{DATA_PATH}/capture_230516/Cameraman_edited.png\")\n",
    "# captured = captured.crop((400, 460, 860, 920)).resize((n, n))\n",
    "captured = np.array(captured)\n",
    "g = captured.reshape(-1, 1)"
   ]
  },
  {
   "cell_type": "code",
   "execution_count": null,
   "metadata": {},
   "outputs": [],
   "source": [
    "SETTING = \"hadamard_FISTA_l122_p-10_lmd-100\"\n",
    "# H = np.load(f\"{DATA_PATH}/systemMatrix/H_matrix_{SETTING}.npy\")\n",
    "loaded_data = sio.loadmat(f\"{DATA_PATH}/240818/systemMatrix/H_matrix_{SETTING}.mat\")\n",
    "H = loaded_data['matrix']"
   ]
  },
  {
   "cell_type": "code",
   "execution_count": null,
   "metadata": {},
   "outputs": [],
   "source": [
    "admm = admm.Admm(H, g, D, tau)\n",
    "f, obj, err = admm.solve()"
   ]
  }
 ],
 "metadata": {
  "kernelspec": {
   "display_name": "Python 3",
   "language": "python",
   "name": "python3"
  },
  "language_info": {
   "codemirror_mode": {
    "name": "ipython",
    "version": 3
   },
   "file_extension": ".py",
   "mimetype": "text/x-python",
   "name": "python",
   "nbconvert_exporter": "python",
   "pygments_lexer": "ipython3",
   "version": "3.11.8"
  }
 },
 "nbformat": 4,
 "nbformat_minor": 2
}
