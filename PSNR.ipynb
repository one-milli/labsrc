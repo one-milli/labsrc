{
 "cells": [
  {
   "cell_type": "code",
   "execution_count": 5,
   "metadata": {},
   "outputs": [],
   "source": [
    "import cv2\n",
    "import numpy as np\n",
    "import math\n",
    "import matplotlib.pyplot as plt\n",
    "from PIL import Image\n",
    "\n",
    "DATA_PATH = \"../../OneDrive - m.titech.ac.jp/Lab/data\""
   ]
  },
  {
   "cell_type": "code",
   "execution_count": 6,
   "metadata": {},
   "outputs": [
    {
     "data": {
      "image/png": "[encoded data removed]",
      "text/plain": [
       "<Figure size 128x128 with 1 Axes>"
      ]
     },
     "metadata": {},
     "output_type": "display_data"
    }
   ],
   "source": [
    "H_true = np.load(f\"{DATA_PATH}/systemMatrix/H_matrix_true.npy\")\n",
    "sample_image = Image.open(f\"{DATA_PATH}/sample_image64/Cameraman64.png\").convert(\"L\")\n",
    "sample_image = np.asarray(sample_image).flatten() / 255\n",
    "\n",
    "Hf = H_true @ sample_image\n",
    "Hf_img = Hf.reshape(128, 128)\n",
    "Hf_img = np.clip(Hf_img, 0, 1)\n",
    "Hf_pil = Image.fromarray((Hf_img * 255).astype(np.uint8), mode=\"L\")\n",
    "\n",
    "FILENAME = f\"GT.png\"\n",
    "fig, ax = plt.subplots(figsize=Hf_img.shape[::-1], dpi=1, tight_layout=True)\n",
    "ax.imshow(Hf_pil, cmap=\"gray\")\n",
    "ax.axis(\"off\")\n",
    "fig.savefig(f\"{DATA_PATH}/240724/{FILENAME}\", dpi=1)\n",
    "plt.show()"
   ]
  },
  {
   "cell_type": "code",
   "execution_count": 13,
   "metadata": {},
   "outputs": [
    {
     "name": "stdout",
     "output_type": "stream",
     "text": [
      "PSNR 19.079558461490013\n"
     ]
    }
   ],
   "source": [
    "Original = cv2.imread(f\"{DATA_PATH}/240724/GT.png\")\n",
    "Compared = cv2.imread(f\"{DATA_PATH}/240724/hadamard_pr-du_p-10_lmd1-10_lmd2-1.png\")\n",
    "\n",
    "# 画素値の読み込み\n",
    "pixel_value_Ori = Original.flatten().astype(float)\n",
    "pixel_value_Dis = Compared.flatten().astype(float)\n",
    "\n",
    "# 画素情報の取得\n",
    "imageHeight, imageWidth, BPP = Original.shape\n",
    "\n",
    "# 画素数\n",
    "N = imageHeight * imageWidth\n",
    "\n",
    "# 1画素あたりRGB3つの情報がある.\n",
    "addr = N * BPP\n",
    "\n",
    "# RGB画素値の差の2乗の総和\n",
    "sumR = 0\n",
    "sumG = 0\n",
    "sumB = 0\n",
    "\n",
    "# 差の2乗の総和を計算\n",
    "for i in range(addr):\n",
    "    if i % 3 == 0:\n",
    "        sumB += pow((pixel_value_Ori[i] - pixel_value_Dis[i]), 2)\n",
    "    elif i % 3 == 1:\n",
    "        sumG += pow((pixel_value_Ori[i] - pixel_value_Dis[i]), 2)\n",
    "    else:\n",
    "        sumR += pow((pixel_value_Ori[i] - pixel_value_Dis[i]), 2)\n",
    "\n",
    "# PSNRを求める\n",
    "MSE = (sumR + sumG + sumB) / (3 * N)\n",
    "PSNR = 10 * math.log(255 * 255 / MSE, 10)\n",
    "print(\"PSNR\", PSNR)"
   ]
  }
 ],
 "metadata": {
  "kernelspec": {
   "display_name": "Python 3",
   "language": "python",
   "name": "python3"
  },
  "language_info": {
   "codemirror_mode": {
    "name": "ipython",
    "version": 3
   },
   "file_extension": ".py",
   "mimetype": "text/x-python",
   "name": "python",
   "nbconvert_exporter": "python",
   "pygments_lexer": "ipython3",
   "version": "3.11.8"
  }
 },
 "nbformat": 4,
 "nbformat_minor": 2
}
