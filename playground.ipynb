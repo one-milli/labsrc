{
 "cells": [
  {
   "cell_type": "code",
   "execution_count": 3,
   "metadata": {},
   "outputs": [
    {
     "name": "stdout",
     "output_type": "stream",
     "text": [
      "行方向のノルム: [ 3.74165739  8.77496439 13.92838828]\n",
      "列方向のノルム: [ 8.1240384   9.64365076 11.22497216]\n"
     ]
    }
   ],
   "source": [
    "import numpy as np\n",
    "\n",
    "matrix = np.array([[1, 2, 3], [4, 5, 6], [7, 8, 9]])\n",
    "\n",
    "# order引数を指定しない場合はデフォルトで2ノルムが計算される\n",
    "# 行方向のノルム計算\n",
    "row_norm = np.linalg.norm(matrix, axis=1)\n",
    "print(\"行方向のノルム:\", row_norm)\n",
    "\n",
    "# 列方向のノルム計算\n",
    "col_norm = np.linalg.norm(matrix, axis=0)\n",
    "print(\"列方向のノルム:\", col_norm)"
   ]
  },
  {
   "cell_type": "code",
   "execution_count": 23,
   "metadata": {},
   "outputs": [
    {
     "name": "stdout",
     "output_type": "stream",
     "text": [
      "[[ 1  2  3  4  5]\n",
      " [ 6  7  8  9 10]]\n",
      "[[ 1  2]\n",
      " [ 3  4]\n",
      " [ 5  6]\n",
      " [ 7  8]\n",
      " [ 9 10]]\n",
      "[[ 1  6]\n",
      " [ 2  7]\n",
      " [ 3  8]\n",
      " [ 4  9]\n",
      " [ 5 10]]\n",
      "[ 1  2  3  4  5  6  7  8  9 10]\n",
      "[ 1  6  2  7  3  8  4  9  5 10]\n"
     ]
    }
   ],
   "source": [
    "matrix = np.array([1, 2, 3, 4, 5, 6, 7, 8, 9, 10])\n",
    "matrix1 = matrix.reshape(2, -1)  # -1を指定すると自動で要素数を計算してくれる\n",
    "matrix2 = matrix.reshape(-1, 2)\n",
    "matrix3 = matrix.reshape(-1, 2, order=\"F\")  # order引数でFortranスタイルの順序で要素を並べることができる\n",
    "vector3 = matrix3.reshape(-1, order=\"F\")  # 1次元配列に変換\n",
    "vector3_ = matrix3.reshape(-1)\n",
    "print(matrix1)\n",
    "print(matrix2)\n",
    "print(matrix3)\n",
    "print(vector3)\n",
    "print(vector3_)"
   ]
  },
  {
   "cell_type": "code",
   "execution_count": 19,
   "metadata": {},
   "outputs": [
    {
     "name": "stdout",
     "output_type": "stream",
     "text": [
      "[[ 1  6]\n",
      " [ 2  7]\n",
      " [ 3  8]\n",
      " [ 4  9]\n",
      " [ 5 10]]\n",
      "[ 6.08276253  7.28010989  8.54400375  9.8488578  11.18033989]\n",
      "[[ 6.08276253  6.08276253]\n",
      " [ 7.28010989  7.28010989]\n",
      " [ 8.54400375  8.54400375]\n",
      " [ 9.8488578   9.8488578 ]\n",
      " [11.18033989 11.18033989]]\n",
      "[[  6.08276253  36.49657518]\n",
      " [ 14.56021978  50.96076922]\n",
      " [ 25.63201124  68.35202996]\n",
      " [ 39.39543121  88.63972022]\n",
      " [ 55.90169944 111.80339887]]\n"
     ]
    }
   ],
   "source": [
    "matrix = np.array([1, 2, 3, 4, 5, 6, 7, 8, 9, 10])\n",
    "matrix = matrix.reshape(-1, 2, order=\"F\")\n",
    "print(matrix)\n",
    "norm = np.linalg.norm(matrix, axis=1)\n",
    "print(norm)\n",
    "tile = np.tile(norm[:, np.newaxis], (1, 2))\n",
    "print(tile)\n",
    "t = np.maximum(tile, 0) * matrix\n",
    "print(t)"
   ]
  },
  {
   "cell_type": "code",
   "execution_count": 24,
   "metadata": {},
   "outputs": [
    {
     "name": "stdout",
     "output_type": "stream",
     "text": [
      "[1 2 3 4 5]\n"
     ]
    }
   ],
   "source": [
    "vec = np.array([1, 2, 3, 4, 5, 6, 7, 8, 9, 10])\n",
    "print(vec[0:5])"
   ]
  }
 ],
 "metadata": {
  "kernelspec": {
   "display_name": "Python 3",
   "language": "python",
   "name": "python3"
  },
  "language_info": {
   "codemirror_mode": {
    "name": "ipython",
    "version": 3
   },
   "file_extension": ".py",
   "mimetype": "text/x-python",
   "name": "python",
   "nbconvert_exporter": "python",
   "pygments_lexer": "ipython3",
   "version": "3.11.8"
  }
 },
 "nbformat": 4,
 "nbformat_minor": 2
}
