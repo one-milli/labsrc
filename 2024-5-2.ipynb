{
 "cells": [
  {
   "cell_type": "markdown",
   "metadata": {},
   "source": [
    "H_trueとH_optのL1ノルムなどを比較して、足すべき正則化項を探る"
   ]
  },
  {
   "cell_type": "code",
   "execution_count": null,
   "metadata": {},
   "outputs": [],
   "source": [
    "import numpy as np\n",
    "import matplotlib.pyplot as plt\n",
    "import seaborn as sns\n",
    "import localConfig"
   ]
  },
  {
   "cell_type": "code",
   "execution_count": null,
   "metadata": {},
   "outputs": [],
   "source": [
    "def matrix_to_tensor(H, m, n):\n",
    "    H_tensor = np.zeros((m, m, n, n))\n",
    "    for i in range(m):\n",
    "        for j in range(m):\n",
    "            for k in range(n):\n",
    "                for l in range(n):\n",
    "                    H_tensor[i, j, k, l] = H[i * m + j, k * n + l]\n",
    "    return H_tensor"
   ]
  },
  {
   "cell_type": "code",
   "execution_count": null,
   "metadata": {},
   "outputs": [],
   "source": [
    "m = 128\n",
    "n = 64\n",
    "\n",
    "H1 = np.load(localConfig.DATA_PATH + '/systemMatrix/H_matrix_true.npy')\n",
    "H1t = matrix_to_tensor(H1, m, n)\n",
    "np.save(localConfig.DATA_PATH + '/systemMatrix/H_tensor_true.npy', H1t)\n",
    "# H1t = np.load(localConfig.DATA_PATH + \"/240519/systemMatrix/H_tensor_true.npy\")\n",
    "\n",
    "DATE = '240718'\n",
    "SETTING = 'hadamard_l1_p-10_lmd1-1_lmd2-1'\n",
    "H2 = np.load(localConfig.DATA_PATH + f\"/{DATE}/systemMatrix/H_matrix_{SETTING}.npy\")\n",
    "H2t = matrix_to_tensor(H2, m, n)\n",
    "np.save(localConfig.DATA_PATH + f\"/{DATE}/systemMatrix/H_tensor_{SETTING}.npy\", H2t)\n",
    "# H2t = np.load(localConfig.DATA_PATH + f\"/{DATE}/systemMatrix/H_tensor_{SETTING}.npy\")\n",
    "\n",
    "norm_array1 = np.zeros((m, m))\n",
    "norm_array2 = np.zeros((m, m))\n",
    "\n",
    "\n",
    "def l1_norm(matrix):\n",
    "    return np.sum(np.abs(matrix))\n",
    "\n",
    "\n",
    "def l2_norm(matrix):\n",
    "    return np.linalg.norm(matrix, 'fro')\n",
    "\n",
    "\n",
    "def nuclear_norm(matrix):\n",
    "    return np.sum(np.linalg.svd(matrix, compute_uv=False))\n",
    "\n",
    "\n",
    "def rank(matrix):\n",
    "    return np.linalg.matrix_rank(matrix)\n",
    "\n",
    "\n",
    "def max_eigenvalue(A):\n",
    "    eigenvalues, eigenvectors = np.linalg.eig(A)\n",
    "    return np.max(eigenvalues)\n",
    "\n",
    "\n",
    "# Calculate the element-wise L1 norm for each n x n matrix and store it in the output array\n",
    "# for i in range(m):\n",
    "#     for j in range(m):\n",
    "#         L1norm_array1[i, j] = nuclear_norm(H1t[i, j, :, :])\n",
    "#         L1norm_array2[i, j] = nuclear_norm(H2t[i, j, :, :])\n",
    "\n",
    "for i in range(m):\n",
    "    for j in range(m):\n",
    "        norm_array1[i, j] = l1_norm(H1t[i, j, :, :])\n",
    "        norm_array2[i, j] = l1_norm(H2t[i, j, :, :])"
   ]
  },
  {
   "cell_type": "code",
   "execution_count": null,
   "metadata": {},
   "outputs": [],
   "source": [
    "# norm_array1[:, 0] = 0\n",
    "# norm_array2[:, 0] = 0\n",
    "plt.figure(figsize=(10, 8))\n",
    "sns.heatmap(norm_array1, annot=False, cmap='viridis')\n",
    "\n",
    "plt.figure(figsize=(10, 8))\n",
    "sns.heatmap(norm_array2, annot=False, cmap='viridis')"
   ]
  }
 ],
 "metadata": {
  "kernelspec": {
   "display_name": "Python 3",
   "language": "python",
   "name": "python3"
  },
  "language_info": {
   "codemirror_mode": {
    "name": "ipython",
    "version": 3
   },
   "file_extension": ".py",
   "mimetype": "text/x-python",
   "name": "python",
   "nbconvert_exporter": "python",
   "pygments_lexer": "ipython3",
   "version": "3.11.8"
  }
 },
 "nbformat": 4,
 "nbformat_minor": 2
}
