{
 "cells": [
  {
   "cell_type": "markdown",
   "metadata": {},
   "source": [
    "## 2024.04\n",
    "### タスク\n",
    "- 有効な正則化手法の考案\n",
    "- ランダムパターンでHを再構成"
   ]
  },
  {
   "cell_type": "code",
   "execution_count": null,
   "metadata": {},
   "outputs": [],
   "source": [
    "import numpy as np\n",
    "import matplotlib.pyplot as plt\n",
    "import localConfig\n",
    "from sklearn.decomposition import PCA\n",
    "from scipy.spatial.distance import pdist, squareform\n",
    "from sklearn.manifold import SpectralEmbedding\n",
    "import seaborn as sns\n",
    "from mpl_toolkits.mplot3d import Axes3D"
   ]
  },
  {
   "cell_type": "code",
   "execution_count": null,
   "metadata": {},
   "outputs": [],
   "source": [
    "H_tensor = np.load(localConfig.DATA_PATH + '/systemMatrix/H_matrix_tensor.npy')\n",
    "H_tensor = H_tensor[:, :, :, 31]\n",
    "H_tensor[H_tensor <= 1e-3] = 0\n",
    "\n",
    "nonzero_indices = np.nonzero(H_tensor)\n",
    "X_sr = np.column_stack(nonzero_indices) # 事例\n",
    "t_sr = H_tensor[nonzero_indices]"
   ]
  },
  {
   "cell_type": "markdown",
   "metadata": {},
   "source": [
    "## PCA"
   ]
  },
  {
   "cell_type": "code",
   "execution_count": null,
   "metadata": {},
   "outputs": [],
   "source": [
    "fig = plt.figure(figsize=(6,6))\n",
    "ax = fig.add_subplot(projection='3d')\n",
    "ax.view_init(30, -60)\n",
    "ax.scatter(X_sr.T[0], X_sr.T[1], X_sr.T[2], c=t_sr, s=50)\n",
    "ax.set_xlabel('i')\n",
    "ax.set_ylabel('j')\n",
    "ax.set_zlabel('l')\n",
    "ax.set_xlim(0, 127)\n",
    "ax.set_ylim(0, 127)\n",
    "ax.set_zlim(0, 63)\n",
    "plt.show()"
   ]
  },
  {
   "cell_type": "code",
   "execution_count": null,
   "metadata": {},
   "outputs": [],
   "source": [
    "pca = PCA(n_components=3)\n",
    "pca.fit(X_sr)\n",
    "images_map = pca.transform(X_sr)\n",
    "\n",
    "fig = plt.figure()\n",
    "plt.scatter(images_map.T[0], images_map.T[1], c=t_sr)\n",
    "plt.xlabel(\"PC1\")\n",
    "plt.ylabel(\"PC2\")\n",
    "plt.show()"
   ]
  },
  {
   "cell_type": "code",
   "execution_count": null,
   "metadata": {},
   "outputs": [],
   "source": [
    "explained_variance_ratio = pca.explained_variance_ratio_\n",
    "print(\"主成分の寄与率:\", explained_variance_ratio)\n",
    "cumulative_variance_ratio = np.cumsum(explained_variance_ratio)\n",
    "print(\"累積寄与率:\", cumulative_variance_ratio)\n",
    "principal_components = pca.components_\n",
    "print(\"主成分の値:\")\n",
    "print(principal_components)"
   ]
  },
  {
   "cell_type": "code",
   "execution_count": null,
   "metadata": {},
   "outputs": [],
   "source": [
    "pc1 = pca.components_[0]\n",
    "pc2 = pca.components_[1]\n",
    "\n",
    "# 法線ベクトルの計算\n",
    "normal_vector = np.cross(pc1, pc2)\n",
    "\n",
    "# 平面上の点の選択\n",
    "mean_scores = np.mean(images_map, axis=0)\n",
    "point_on_plane = pca.inverse_transform(mean_scores)\n",
    "\n",
    "# 回帰平面の方程式\n",
    "# ax + by + cz + d = 0\n",
    "a, b, c = normal_vector\n",
    "d = -np.dot(normal_vector, point_on_plane)\n",
    "\n",
    "print(\"回帰平面の方程式:\")\n",
    "print(f\"{a}x + {b}y + {c}z + {d} = 0\")"
   ]
  },
  {
   "cell_type": "code",
   "execution_count": null,
   "metadata": {},
   "outputs": [],
   "source": [
    "# 回帰平面のプロット用データの生成\n",
    "x_min, x_max = np.min(X_sr[:, 0]), np.max(X_sr[:, 0])\n",
    "y_min, y_max = np.min(X_sr[:, 1]), np.max(X_sr[:, 1])\n",
    "xx, yy = np.meshgrid(np.linspace(x_min, x_max, 10), np.linspace(y_min, y_max, 10))\n",
    "zz = (-a * xx - b * yy - d) / c\n",
    "\n",
    "# プロットの作成\n",
    "fig = plt.figure(figsize=(8, 6))\n",
    "ax = fig.add_subplot(111, projection='3d')\n",
    "\n",
    "# 回帰平面のプロット\n",
    "ax.plot_surface(xx, yy, zz, alpha=0.5)\n",
    "\n",
    "# ラベルの設定\n",
    "ax.set_xlabel('i')\n",
    "ax.set_ylabel('j')\n",
    "ax.set_zlabel('l')\n",
    "ax.set_xlim(0, 127)\n",
    "ax.set_ylim(0, 127)\n",
    "ax.set_zlim(0, 63)\n",
    "\n",
    "# タイトルの設定\n",
    "ax.set_title('PCA Regression Plane')\n",
    "\n",
    "plt.show()"
   ]
  },
  {
   "cell_type": "markdown",
   "metadata": {},
   "source": [
    "## グラフ埋め込み"
   ]
  },
  {
   "cell_type": "code",
   "execution_count": null,
   "metadata": {},
   "outputs": [],
   "source": [
    "from sklearn.manifold import SpectralEmbedding\n",
    "from scipy.spatial.distance import pdist, squareform\n",
    "\n",
    "# Calculate the distances between all pairs of node\n",
    "distance_matrix = squareform(pdist(X_sr))\n",
    "\n",
    "# Find the 5 nearest node\n",
    "# omit the nearest node since it is itself\n",
    "NUM_NEAREST = 3\n",
    "nearest_indices = np.argsort(distance_matrix, axis=1)[:, 1:1 + NUM_NEAREST]\n",
    "\n",
    "# Create adjacency matrix\n",
    "adjacency_matrix = np.zeros(distance_matrix.shape)\n",
    "for i, nearest_nodes in enumerate(nearest_indices):\n",
    "    for node in nearest_nodes:\n",
    "        adjacency_matrix[i, node] = 1\n",
    "        adjacency_matrix[node, i] = 1  # symmetric matrix\n",
    "\n",
    "\n",
    "se = SpectralEmbedding(n_components=2, affinity=\"precomputed\", random_state=42)\n",
    "X_sr_transformed = se.fit_transform(adjacency_matrix)"
   ]
  },
  {
   "cell_type": "code",
   "execution_count": null,
   "metadata": {},
   "outputs": [],
   "source": [
    "plt.scatter(X_sr_transformed[:,0], X_sr_transformed[:,1], c=t_sr)\n",
    "plt.xlabel(\"1st axis\")\n",
    "plt.ylabel(\"2nd axis\")\n",
    "plt.show()\n"
   ]
  }
 ],
 "metadata": {
  "kernelspec": {
   "display_name": "Python 3",
   "language": "python",
   "name": "python3"
  },
  "language_info": {
   "codemirror_mode": {
    "name": "ipython",
    "version": 3
   },
   "file_extension": ".py",
   "mimetype": "text/x-python",
   "name": "python",
   "nbconvert_exporter": "python",
   "pygments_lexer": "ipython3",
   "version": "3.11.8"
  }
 },
 "nbformat": 4,
 "nbformat_minor": 2
}
