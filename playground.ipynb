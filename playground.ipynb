{
 "cells": [
  {
   "cell_type": "code",
   "execution_count": null,
   "metadata": {},
   "outputs": [],
   "source": [
    "import numpy as np\n",
    "\n",
    "matrix = np.array([[1, 2, 3], [4, 5, 6], [7, 8, 9]])\n",
    "\n",
    "# order引数を指定しない場合はデフォルトで2ノルムが計算される\n",
    "# 行方向のノルム計算\n",
    "row_norm = np.linalg.norm(matrix, axis=1)\n",
    "print(\"行方向のノルム:\", row_norm)\n",
    "\n",
    "# 列方向のノルム計算\n",
    "col_norm = np.linalg.norm(matrix, axis=0)\n",
    "print(\"列方向のノルム:\", col_norm)"
   ]
  },
  {
   "cell_type": "code",
   "execution_count": null,
   "metadata": {},
   "outputs": [],
   "source": [
    "matrix = np.array([1, 2, 3, 4, 5, 6, 7, 8, 9, 10])\n",
    "matrix1 = matrix.reshape(2, -1)  # -1を指定すると自動で要素数を計算してくれる\n",
    "matrix2 = matrix.reshape(-1, 2)\n",
    "matrix3 = matrix.reshape(-1, 2, order=\"F\")  # order引数でFortranスタイルの順序で要素を並べることができる\n",
    "vector3 = matrix3.reshape(-1, order=\"F\")  # 1次元配列に変換\n",
    "vector3_ = matrix3.reshape(-1)\n",
    "print(matrix1)\n",
    "print(matrix2)\n",
    "print(matrix3)\n",
    "print(vector3)\n",
    "print(vector3_)"
   ]
  },
  {
   "cell_type": "code",
   "execution_count": null,
   "metadata": {},
   "outputs": [],
   "source": [
    "matrix = np.array([1, 2, 3, 4, 5, 6, 7, 8, 9, 10])\n",
    "matrix = matrix.reshape(-1, 2, order=\"F\")\n",
    "print(matrix)\n",
    "norm = np.linalg.norm(matrix, axis=1)\n",
    "print(norm)\n",
    "tile = np.tile(norm[:, np.newaxis], (1, 2))\n",
    "print(tile)\n",
    "t = np.maximum(tile, 0) * matrix\n",
    "print(t)"
   ]
  },
  {
   "cell_type": "code",
   "execution_count": null,
   "metadata": {},
   "outputs": [],
   "source": [
    "vec = np.array([1, 2, 3, 4, 5, 6, 7, 8, 9, 10])\n",
    "print(vec[0:5])"
   ]
  },
  {
   "cell_type": "code",
   "execution_count": null,
   "metadata": {},
   "outputs": [],
   "source": [
    "import scipy.sparse as sparse\n",
    "n = 4\n",
    "m = 8\n",
    "N = n * n\n",
    "M = m * m\n",
    "\n",
    "Di = sparse.eye(M, format='lil') - sparse.eye(M, k=m, format='lil')\n",
    "Di[-m:, :] = 0\n",
    "Di = Di.toarray()\n",
    "\n",
    "Dj = sparse.eye(M, format='lil') - sparse.eye(M, k=1, format='lil')\n",
    "for p in range(1, m + 1):\n",
    "    Dj[m * p - 1, m * p - 1] = 0\n",
    "    if p < m:\n",
    "        Dj[m * p - 1, m * p] = 0\n",
    "Dj = Dj.toarray()\n",
    "\n",
    "Dk = sparse.eye(N, format='lil') - sparse.eye(N, k=n, format='lil')\n",
    "Dk = sparse.csr_matrix(Dk[:n * (n - 1), :N])\n",
    "Dk = sparse.vstack([Dk, sparse.csr_matrix((n, N))])\n",
    "Dk = Dk.toarray()\n",
    "\n",
    "Dl = sparse.eye(N, format='lil') - sparse.eye(N, k=1, format='lil')\n",
    "for p in range(1, n + 1):\n",
    "    Dl[n * p - 1, n * p - 1] = 0\n",
    "    if p < n:\n",
    "        Dl[n * p - 1, n * p] = 0\n",
    "Dl = Dl.toarray()\n"
   ]
  },
  {
   "cell_type": "code",
   "execution_count": null,
   "metadata": {},
   "outputs": [],
   "source": [
    "import matplotlib.pyplot as plt\n",
    "import seaborn as sns\n",
    "\n",
    "# Diのヒートマップ\n",
    "plt.figure(figsize=(8, 8))\n",
    "sns.heatmap(Di, cmap='coolwarm', cbar=False)\n",
    "plt.title('Di Heatmap')\n",
    "plt.show()\n",
    "\n",
    "# Djのヒートマップ\n",
    "plt.figure(figsize=(8, 8))\n",
    "sns.heatmap(Dj, cmap='coolwarm', cbar=False)\n",
    "plt.title('Dj Heatmap')\n",
    "plt.show()\n",
    "\n",
    "# Dkのヒートマップ\n",
    "plt.figure(figsize=(8, 8))\n",
    "sns.heatmap(Dk, cmap='coolwarm', cbar=False)\n",
    "plt.title('Dk Heatmap')\n",
    "plt.show()\n",
    "\n",
    "# Dlのヒートマップ\n",
    "plt.figure(figsize=(8, 8))\n",
    "sns.heatmap(Dl, cmap='coolwarm', cbar=False)\n",
    "plt.title('Dl Heatmap')\n",
    "plt.show()\n"
   ]
  },
  {
   "cell_type": "code",
   "execution_count": null,
   "metadata": {},
   "outputs": [],
   "source": [
    "import cv2\n",
    "import numpy as np\n",
    "import matplotlib.pyplot as plt\n",
    "\n",
    "# 64x64の画像を読み込む\n",
    "image_path = '../../OneDrive - m.titech.ac.jp/Lab/data/sample_image64/Cameraman64.png'  # 画像ファイルへのパスを指定\n",
    "image = cv2.imread(image_path, cv2.IMREAD_GRAYSCALE)\n",
    "\n",
    "# 128x128のPSFを定義する（ガウシアンぼけを例としています）\n",
    "psf = cv2.getGaussianKernel(128, 3)  # 標準偏差20の1次元ガウシアンカーネル\n",
    "psf = np.outer(psf, psf)             # 2次元ガウシアンカーネルに変換\n",
    "\n",
    "# 畳み込みを実行する\n",
    "blurred_image = cv2.filter2D(image, -1, psf)\n",
    "\n",
    "# 結果を表示する\n",
    "cv2.imshow('Original Image', image)\n",
    "cv2.imshow('Blurred Image', blurred_image)\n",
    "\n",
    "plt.figure(figsize=(5, 5))\n",
    "plt.imshow(psf, cmap='gray')\n",
    "plt.title('PSF')\n",
    "plt.xlabel('X')\n",
    "plt.ylabel('Y')\n",
    "plt.colorbar()\n",
    "plt.show()\n",
    "\n",
    "cv2.waitKey(0)\n",
    "cv2.destroyAllWindows()\n"
   ]
  },
  {
   "cell_type": "code",
   "execution_count": null,
   "metadata": {},
   "outputs": [],
   "source": [
    "\"\"\"Show image\"\"\"\n",
    "import matplotlib.pyplot as plt\n",
    "from PIL import Image\n",
    "\n",
    "image_path = '../data/240818/hadamard_FISTA_l122_p-10_lmd-100.png'\n",
    "img = Image.open(image_path)\n",
    "\n",
    "width, height = img.size \n",
    "\n",
    "fig, ax = plt.subplots(figsize=(width, height), dpi=1, tight_layout=True)\n",
    "ax.imshow(img, cmap=\"gray\")\n",
    "ax.axis(\"off\")\n",
    "plt.show()"
   ]
  }
 ],
 "metadata": {
  "kernelspec": {
   "display_name": "Python 3",
   "language": "python",
   "name": "python3"
  },
  "language_info": {
   "codemirror_mode": {
    "name": "ipython",
    "version": 3
   },
   "file_extension": ".py",
   "mimetype": "text/x-python",
   "name": "python",
   "nbconvert_exporter": "python",
   "pygments_lexer": "ipython3",
   "version": "3.11.8"
  }
 },
 "nbformat": 4,
 "nbformat_minor": 2
}
