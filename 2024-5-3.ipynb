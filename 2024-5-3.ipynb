{
 "cells": [
  {
   "cell_type": "code",
   "execution_count": null,
   "metadata": {},
   "outputs": [],
   "source": [
    "import random\n",
    "import numpy as np\n",
    "import matplotlib.pyplot as plt\n",
    "import seaborn as sns\n",
    "from PIL import Image\n",
    "import os\n",
    "import re\n",
    "DATA_PATH = '../../OneDrive - m.titech.ac.jp/Lab/data'"
   ]
  },
  {
   "cell_type": "code",
   "execution_count": null,
   "metadata": {},
   "outputs": [],
   "source": [
    "def images_to_matrix(folder_path, convert_gray=False, is_binary=False, disp_used=False, seed=0, ratio=1.0):\n",
    "    files = os.listdir(folder_path)\n",
    "    files.sort(key=lambda f: int(re.search('hadamard_(\\d+).png', f).group(1)))\n",
    "\n",
    "    if seed != 0:\n",
    "        random.seed(seed)\n",
    "        random.shuffle(files)\n",
    "\n",
    "    total_files = len(files)\n",
    "    number_of_files_to_load = int(total_files * ratio)\n",
    "\n",
    "    selected_files = files[:number_of_files_to_load]\n",
    "    selected_files.sort(key=lambda f: int(re.search('hadamard_(\\d+).png', f).group(1)))\n",
    "\n",
    "    images = []\n",
    "    use_list = []\n",
    "\n",
    "    for file in selected_files:\n",
    "        index = int(re.sub(r'\\D', '', file))\n",
    "        use_list.append(index)\n",
    "        img = Image.open(os.path.join(folder_path, file))\n",
    "        if convert_gray:\n",
    "            img = img.convert('L')\n",
    "        if is_binary:\n",
    "            img = img.point(lambda x: 255 if x else 0, 'L')\n",
    "        img_array = np.asarray(img).flatten()\n",
    "        img_array = img_array / 255\n",
    "        images.append(img_array)\n",
    "\n",
    "    # diff = list(set(range(1, len(files)+1))-set(use_list))\n",
    "    # print(\"Didn't use:\", sorted(diff))\n",
    "    if disp_used:\n",
    "        print(\"Used:\", use_list)\n",
    "\n",
    "    return np.column_stack(images)\n",
    "\n",
    "\n",
    "def max_eigenvalue(A):\n",
    "    eigenvalues, eigenvectors = np.linalg.eig(A)\n",
    "    return np.max(eigenvalues)\n",
    "\n",
    "\n",
    "def fista(G, F, prox, lmd, threshold):\n",
    "    L = max_eigenvalue(F.T @ F) *3\n",
    "    print('L: {}'.format(L))\n",
    "    gamma = 1 / L\n",
    "    i = 1\n",
    "    t = 1\n",
    "    H_1_prev = np.zeros((G.shape[0], F.shape[0]))\n",
    "    H_2_prev = np.zeros((G.shape[0], F.shape[0]))\n",
    "\n",
    "    while True:\n",
    "        t_new = (1 + np.sqrt(1 + 4 * t**2)) / 2\n",
    "        grad = - 2 * (G - H_2_prev @ F) @ F.T\n",
    "        H_1 = prox(H_2_prev - (1 / L) * grad, gamma * lmd)\n",
    "        H_2 = H_1 + (t - 1) / t_new * (H_1 - H_1_prev)\n",
    "\n",
    "        error = np.linalg.norm(H_2 - H_2_prev, 'fro')\n",
    "        print('iter: {}, error: {}'.format(i, error))\n",
    "        if error < threshold:\n",
    "            break\n",
    "\n",
    "        t = t_new.copy()\n",
    "        H_1_prev = H_1.copy()\n",
    "        H_2_prev = H_2.copy()\n",
    "        i += 1\n",
    "\n",
    "    return H_2\n",
    "\n",
    "\n",
    "# soft thresh\n",
    "def prox_l1(V, lambda1):\n",
    "    return np.sign(V) * np.maximum(np.abs(V) - lambda1, 0)\n",
    "\n",
    "\n",
    "def prox_l12(Z, lambda_L):\n",
    "    \"\"\" Proximal operator for the l12 norm \"\"\"\n",
    "    norm_Z = np.linalg.norm(Z, axis=1, keepdims=True)\n",
    "    factor = np.maximum(0, 1 - lambda_L / norm_Z)\n",
    "    return Z * factor\n",
    "\n",
    "\n",
    "def prox_l122(Y, gamma):\n",
    "    N = Y.shape[1]\n",
    "    l1_norms = np.sum(np.abs(Y), axis=1)\n",
    "    factor = (2 * gamma) / (1 + 2 * gamma * N)\n",
    "    X = np.zeros_like(Y)\n",
    "\n",
    "    # for s in range(Y.shape[0]):\n",
    "    #     for t in range(Y.shape[1]):\n",
    "    #         X[s, t] = np.sign(Y[s, t]) * np.maximum(np.abs(Y[s, t]) - factor * l1_norms[s], 0)\n",
    "    X = np.sign(Y) * np.maximum(np.abs(Y) - factor * l1_norms[:, np.newaxis], 0)\n",
    "    return X\n",
    "\n",
    "\n",
    "def primal_dual(G, F, lambda1, lambda2, tau, sigma, max_iter):\n",
    "    m, n = G.shape[0], F.shape[0]\n",
    "    H = np.zeros((m, n))\n",
    "    Y = np.zeros_like(G)\n",
    "\n",
    "    for k in range(max_iter):\n",
    "        H_prev = H.copy()\n",
    "        gradient = (H @ F - G) @ F.T\n",
    "        H = prox_l1(H - tau * gradient, tau * lambda1)\n",
    "\n",
    "        Y = prox_l12(Y + sigma * ((H - H_prev) @ F), sigma * lambda2)\n",
    "\n",
    "    return H"
   ]
  },
  {
   "cell_type": "code",
   "execution_count": null,
   "metadata": {},
   "outputs": [],
   "source": [
    "# パラメータ設定\n",
    "n = 64\n",
    "m = 128\n",
    "seed = 2\n",
    "ratio = 0.1"
   ]
  },
  {
   "cell_type": "code",
   "execution_count": null,
   "metadata": {},
   "outputs": [],
   "source": [
    "G_full = images_to_matrix(f\"{DATA_PATH}/hadamard{n}_cap_R_230516_128/\", convert_gray=True)\n",
    "print(G_full.shape)"
   ]
  },
  {
   "cell_type": "code",
   "execution_count": null,
   "metadata": {},
   "outputs": [],
   "source": [
    "G = images_to_matrix(f\"{DATA_PATH}/hadamard{n}_cap_R_230516_128/\", convert_gray=True, seed=seed, ratio=ratio)\n",
    "F = images_to_matrix(f\"{DATA_PATH}/Hadamard{n}_input/\", convert_gray=True, disp_used=True, seed=seed, ratio=ratio)\n",
    "print(G.shape)\n",
    "print(F.shape)"
   ]
  },
  {
   "cell_type": "code",
   "execution_count": null,
   "metadata": {},
   "outputs": [],
   "source": [
    "H1 = np.zeros((m**2, 1))\n",
    "G1s = []\n",
    "for _ in range(F.shape[1]):\n",
    "    G1s.append(G_full[:, 0])\n",
    "H1 = np.column_stack(G1s)\n",
    "F_hat = 2 * F - 1\n",
    "G_hat = 2 * G - H1\n",
    "print(F_hat.shape)\n",
    "print(G_hat.shape)"
   ]
  },
  {
   "cell_type": "code",
   "execution_count": null,
   "metadata": {},
   "outputs": [],
   "source": [
    "lmd = 1\n",
    "threshold = 1e-2\n",
    "DIRECTORY = DATA_PATH + '/240618'"
   ]
  },
  {
   "cell_type": "code",
   "execution_count": null,
   "metadata": {},
   "outputs": [],
   "source": [
    "H = fista(G_hat, F_hat, prox_l122, lmd, threshold)"
   ]
  },
  {
   "cell_type": "code",
   "execution_count": null,
   "metadata": {},
   "outputs": [],
   "source": [
    "if not os.path.exists(DIRECTORY):\n",
    "    os.makedirs(DIRECTORY)\n",
    "if not os.path.exists(DIRECTORY + '/systemMatrix'):\n",
    "    os.makedirs(DIRECTORY + '/systemMatrix')\n",
    "SETTING=f\"l1_p-{int(100*ratio)}_lmd-{int(lmd)}\"\n",
    "np.save(f\"{DIRECTORY}/systemMatrix/H_matrix_hadamard_{SETTING}.npy\", H)"
   ]
  },
  {
   "cell_type": "code",
   "execution_count": null,
   "metadata": {},
   "outputs": [],
   "source": [
    "sample_image = Image.open(f\"{DATA_PATH}/sample_image64/Cameraman64.png\")\n",
    "sample_image = sample_image.convert('L')\n",
    "sample_image = np.asarray(sample_image).flatten() / 255\n",
    "\n",
    "Hf = H @ sample_image\n",
    "Hf_img = Hf.reshape(m, m)\n",
    "# 0未満を0に、1以上を1に\n",
    "Hf_img = np.clip(Hf_img, 0, 1)\n",
    "Hf_pil = Image.fromarray((Hf_img * 255).astype(np.uint8), mode='L')\n",
    "\n",
    "FILENAME = f\"Cameraman64_{SETTING}.png\"\n",
    "fig, ax = plt.subplots(figsize=Hf_img.shape[::-1], dpi=1, tight_layout=True)\n",
    "ax.imshow(Hf_pil, cmap='gray')\n",
    "ax.axis('off')\n",
    "fig.savefig(f\"{DIRECTORY}/{FILENAME}\", dpi=1)\n",
    "plt.show()\n",
    "\n",
    "# plt.figure(figsize=(10, 8))\n",
    "# sns.heatmap(Hf_img, annot=False, cmap='viridis')"
   ]
  },
  {
   "cell_type": "code",
   "execution_count": null,
   "metadata": {},
   "outputs": [],
   "source": [
    "# ratio = 0.1\n",
    "lmd = 10000000\n",
    "H_true = np.load(f\"{DATA_PATH}/systemMatrix/H_matrix_true.npy\")\n",
    "H = np.load(f\"{DIRECTORY}/systemMatrix/H_matrix_l122_FISTA_hadamard_p-{int(100*ratio)}_lmd-{int(lmd)}.npy\")\n",
    "# l12 = np.linalg.norm(H_true, axis=1, ord=2)\n",
    "# l1 = np.linalg.norm(H_true, ord=1)\n",
    "\n",
    "# print(np.sum(l12))\n",
    "# print(l1)"
   ]
  },
  {
   "cell_type": "code",
   "execution_count": null,
   "metadata": {},
   "outputs": [],
   "source": [
    "plt.figure(figsize=(8, 10))\n",
    "sns.heatmap(H_true, annot=False, cmap='viridis')"
   ]
  },
  {
   "cell_type": "code",
   "execution_count": null,
   "metadata": {},
   "outputs": [],
   "source": [
    "Hl1 = np.load(f\"{DATA_PATH}/240519/systemMatrix/H_matrix_FISTA_hadamard_p-10_lmd-1.npy\")\n",
    "# l12=np.linalg.norm(Hl1, axis=1, ord=2)\n",
    "# l1=np.linalg.norm(Hl1, ord=1)\n",
    "# print(np.sum(l12))\n",
    "# print(l1)"
   ]
  },
  {
   "cell_type": "code",
   "execution_count": null,
   "metadata": {},
   "outputs": [],
   "source": [
    "plt.figure(figsize=(8, 10))\n",
    "sns.heatmap(H, annot=False, cmap='viridis')"
   ]
  },
  {
   "cell_type": "code",
   "execution_count": null,
   "metadata": {},
   "outputs": [],
   "source": [
    "rem = np.linalg.norm(H_true-H, 'fro')\n",
    "print(rem)"
   ]
  },
  {
   "cell_type": "code",
   "execution_count": null,
   "metadata": {},
   "outputs": [],
   "source": [
    "def calc_nuclear_norm(matrix):\n",
    "    \"\"\"\n",
    "    Calculate the nuclear norm (trace norm) of a given matrix.\n",
    "    \n",
    "    Parameters:\n",
    "    matrix (numpy.ndarray): The input matrix.\n",
    "    \n",
    "    Returns:\n",
    "    float: The nuclear norm of the matrix.\n",
    "    \"\"\"\n",
    "    # Calculate the singular values of the matrix\n",
    "    singular_values = np.linalg.svd(matrix, compute_uv=False)\n",
    "    \n",
    "    # Calculate the nuclear norm as the sum of singular values\n",
    "    nuclear_norm = np.sum(singular_values)\n",
    "    \n",
    "    return nuclear_norm"
   ]
  },
  {
   "cell_type": "code",
   "execution_count": null,
   "metadata": {},
   "outputs": [],
   "source": [
    "nnorm_true = calc_nuclear_norm(H_true)\n",
    "nnorm_l1 = calc_nuclear_norm(Hl1)\n",
    "print(nnorm_true)\n",
    "print(nnorm_l1)"
   ]
  }
 ],
 "metadata": {
  "kernelspec": {
   "display_name": "Python 3",
   "language": "python",
   "name": "python3"
  },
  "language_info": {
   "codemirror_mode": {
    "name": "ipython",
    "version": 3
   },
   "file_extension": ".py",
   "mimetype": "text/x-python",
   "name": "python",
   "nbconvert_exporter": "python",
   "pygments_lexer": "ipython3",
   "version": "3.11.8"
  }
 },
 "nbformat": 4,
 "nbformat_minor": 2
}
