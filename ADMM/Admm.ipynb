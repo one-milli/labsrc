{
 "cells": [
  {
   "cell_type": "code",
   "execution_count": null,
   "metadata": {},
   "outputs": [],
   "source": [
    "import numpy as np\n",
    "import matplotlib.pyplot as plt\n",
    "import scipy.sparse as sp\n",
    "from PIL import Image\n",
    "import admm"
   ]
  },
  {
   "cell_type": "code",
   "execution_count": null,
   "metadata": {},
   "outputs": [],
   "source": [
    "DATA_PATH = '../../../OneDrive - m.titech.ac.jp/Lab/data'\n",
    "n = 64\n",
    "m = 128\n",
    "tau = 1e-3"
   ]
  },
  {
   "cell_type": "code",
   "execution_count": null,
   "metadata": {},
   "outputs": [],
   "source": [
    "def createD(n):\n",
    "    I = sp.eye(n ** 2, format='lil')\n",
    "\n",
    "    Dx = I - sp.lil_matrix(np.roll(I.toarray(), 1, axis=1))\n",
    "    Dx[n - 1::n, :] = 0\n",
    "    Dy = I - sp.lil_matrix(np.roll(I.toarray(), n, axis=1))\n",
    "    Dy[-n:, :] = 0\n",
    "    D0 = sp.lil_matrix((n ** 2, n ** 2))\n",
    "\n",
    "    D = sp.block_array([[Dx, D0, D0], [D0, Dx, D0], [D0, D0, Dx], [Dy, D0, D0], [D0, Dy, D0], [D0, D0, Dy]])\n",
    "\n",
    "    return D\n",
    "\n",
    "\n",
    "D = createD(n)"
   ]
  },
  {
   "cell_type": "code",
   "execution_count": null,
   "metadata": {},
   "outputs": [],
   "source": [
    "captured = Image.open(f\"{DATA_PATH}/capture_230516/daruma.png\")\n",
    "captured = captured.crop((400, 460, 860, 920)).resize((n, n))\n",
    "captured = np.array(captured)\n",
    "g = captured.reshape(-1, 1)"
   ]
  },
  {
   "cell_type": "code",
   "execution_count": null,
   "metadata": {},
   "outputs": [],
   "source": [
    "H = np.load(f\"{DATA_PATH}/systemMatrix/H_matrix_true.npy\")"
   ]
  },
  {
   "cell_type": "code",
   "execution_count": null,
   "metadata": {},
   "outputs": [],
   "source": [
    "admm = admm.Admm(H, g, D, tau)"
   ]
  }
 ],
 "metadata": {
  "kernelspec": {
   "display_name": "Python 3",
   "language": "python",
   "name": "python3"
  },
  "language_info": {
   "codemirror_mode": {
    "name": "ipython",
    "version": 3
   },
   "file_extension": ".py",
   "mimetype": "text/x-python",
   "name": "python",
   "nbconvert_exporter": "python",
   "pygments_lexer": "ipython3",
   "version": "3.11.8"
  }
 },
 "nbformat": 4,
 "nbformat_minor": 2
}
