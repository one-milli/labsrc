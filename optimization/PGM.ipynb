{
 "cells": [
  {
   "cell_type": "markdown",
   "metadata": {},
   "source": [
    "# FISTA"
   ]
  },
  {
   "cell_type": "code",
   "execution_count": null,
   "metadata": {},
   "outputs": [],
   "source": [
    "import random\n",
    "import numpy as np\n",
    "import matplotlib.pyplot as plt\n",
    "import seaborn as sns\n",
    "from PIL import Image\n",
    "import os\n",
    "import re"
   ]
  },
  {
   "cell_type": "code",
   "execution_count": null,
   "metadata": {},
   "outputs": [],
   "source": [
    "DATA_PATH = '../../../OneDrive - m.titech.ac.jp/Lab/data'"
   ]
  },
  {
   "cell_type": "code",
   "execution_count": null,
   "metadata": {},
   "outputs": [],
   "source": [
    "def images_to_matrix(folder_path, convert_gray=False, is_binary=False, seed=0, ratio=1.0, use_all=False):\n",
    "    files = os.listdir(folder_path)\n",
    "    files.sort(key=lambda f: int(re.search('random_noise_(\\d+).png', f).group(1)))\n",
    "\n",
    "    if seed != 0:\n",
    "        random.seed(seed)\n",
    "        random.shuffle(files)\n",
    "\n",
    "    total_files = len(files)\n",
    "    number_of_files_to_load = int(total_files * ratio)\n",
    "\n",
    "    if use_all:\n",
    "        selected_files = files[:number_of_files_to_load]\n",
    "        selected_files.sort(key=lambda f: int(re.search('random_noise_(\\d+).png', f).group(1)))\n",
    "    else:\n",
    "        # 特定の一部\n",
    "        selected_indices = []\n",
    "        a = np.arange(0, 4096).reshape(64, 64)\n",
    "        a = np.triu(a)\n",
    "        a = a.flatten().tolist()\n",
    "        selected_indices = [i for i in a if i != 0]\n",
    "        selected_indices.insert(0, 0)\n",
    "        for i in range(0, 64):\n",
    "            range_i = list(range(63 + 63 * i, 64 * (i + 1)))\n",
    "            selected_indices += range_i\n",
    "        selected_files = [files[i] for i in selected_indices if i < total_files]\n",
    "\n",
    "    images = []\n",
    "    use_list = []\n",
    "\n",
    "    for file in selected_files:\n",
    "        index = int(re.sub(r'\\D', '', file))\n",
    "        use_list.append(index)\n",
    "        img = Image.open(os.path.join(folder_path, file))\n",
    "        if convert_gray:\n",
    "            img = img.convert('L')\n",
    "        if is_binary:\n",
    "            img = img.point(lambda x: 255 if x else 0, 'L')\n",
    "        img_array = np.asarray(img).flatten()\n",
    "        img_array = img_array / 255\n",
    "        images.append(img_array)\n",
    "\n",
    "    # diff = list(set(range(1, len(files)+1))-set(use_list))\n",
    "    # print(\"Didn't use:\", sorted(diff))\n",
    "    print(\"Used:\", use_list)\n",
    "\n",
    "    return np.column_stack(images)\n",
    "\n",
    "\n",
    "def update_H(H, G, F, lmd, threshold):\n",
    "    i = 1\n",
    "    t = 1\n",
    "    L = max_eigenvalue(F.T @ F) * 3\n",
    "    print('L: {}'.format(L))\n",
    "    H_1_prev = H.copy()\n",
    "    H_2_prev = H.copy()\n",
    "    while True:\n",
    "        t_new = (1 + np.sqrt(1 + 4 * t**2)) / 2\n",
    "        grad = 2 * (H_2_prev @ F - G) @ F.T\n",
    "        H_1 = soft_thresh(H_2_prev - (1 / L) * grad, lmd / L)\n",
    "        H_2 = H_1 + (t - 1) / t_new * (H_1 - H_1_prev)\n",
    "        error = np.linalg.norm(H_2 - H_2_prev, 'fro')\n",
    "\n",
    "        print('iter: {}, error: {}'.format(i, error))\n",
    "        if error < threshold:\n",
    "            break\n",
    "        t = t_new.copy()\n",
    "        H_1_prev = H_1.copy()\n",
    "        H_2_prev = H_2.copy()\n",
    "        i += 1\n",
    "    return H_2\n",
    "\n",
    "\n",
    "def max_eigenvalue(A):\n",
    "    eigenvalues, eigenvectors = np.linalg.eig(A)\n",
    "    return np.max(eigenvalues)\n",
    "\n",
    "\n",
    "def soft_thresh(x, lambda_val):\n",
    "    return np.sign(x) * np.maximum(np.abs(x) - lambda_val, 0)"
   ]
  },
  {
   "cell_type": "code",
   "execution_count": null,
   "metadata": {},
   "outputs": [],
   "source": [
    "# パラメータ設定\n",
    "n = 64\n",
    "m = 128\n",
    "lmd = 10\n",
    "threshold = 0.001\n",
    "seed = 2"
   ]
  },
  {
   "cell_type": "code",
   "execution_count": null,
   "metadata": {},
   "outputs": [],
   "source": [
    "# 真のシステム行列の計算\n",
    "G_full = images_to_matrix(f\"{DATA_PATH}/random_noise{n}_cap/\", convert_gray=True, use_all=True)\n",
    "print(G_full.shape)\n",
    "# F_full = images_to_matrix(f\"{DATA_PATH}/Hadamard{n}_input/\", is_binary=True, use_all=True)\n",
    "# print(F_full.shape)\n",
    "# H1 = np.zeros((m**2, n**2))\n",
    "# G1s = []\n",
    "# for i in range(n**2):\n",
    "#     G1s.append(G_full[:, 0])\n",
    "# H1 = np.column_stack(G1s)\n",
    "# F_hat_full = 2 * F_full - 1\n",
    "# G_hat_full = 2 * G_full - H1\n",
    "# H_true = G_hat_full @ F_hat_full.T / (n**2)"
   ]
  },
  {
   "cell_type": "code",
   "execution_count": null,
   "metadata": {},
   "outputs": [],
   "source": [
    "# del F_full\n",
    "# del F_hat_full\n",
    "# del G_hat_full\n",
    "# gc.collect()"
   ]
  },
  {
   "cell_type": "code",
   "execution_count": null,
   "metadata": {},
   "outputs": [],
   "source": [
    "# np.save('../data/systemMatrix/H_matrix_true.npy', H_true)\n",
    "H_true = np.load(f\"{DATA_PATH}/systemMatrix/H_matrix_true.npy\")"
   ]
  },
  {
   "cell_type": "code",
   "execution_count": null,
   "metadata": {},
   "outputs": [],
   "source": [
    "# 初期化\n",
    "H = np.zeros((m**2, n**2))"
   ]
  },
  {
   "cell_type": "code",
   "execution_count": null,
   "metadata": {},
   "outputs": [],
   "source": [
    "ratio = 0.5"
   ]
  },
  {
   "cell_type": "code",
   "execution_count": null,
   "metadata": {},
   "outputs": [],
   "source": [
    "G = images_to_matrix(f\"{DATA_PATH}/random_noise{n}_cap/\", convert_gray=True, seed=seed, ratio=ratio, use_all=True)\n",
    "F = images_to_matrix(f\"{DATA_PATH}/random_noise{n}_input/\", convert_gray=True, seed=seed, ratio=ratio, use_all=True)\n",
    "print(G.shape)\n",
    "print(F.shape)"
   ]
  },
  {
   "cell_type": "code",
   "execution_count": null,
   "metadata": {},
   "outputs": [],
   "source": [
    "H1 = np.zeros((m**2, 1))\n",
    "G1s = []\n",
    "for _ in range(F.shape[1]):\n",
    "    G1s.append(G_full[:, 0])\n",
    "H1 = np.column_stack(G1s)\n",
    "F_hat = 2 * F - 1\n",
    "G_hat = 2 * G - H1\n",
    "print(F_hat.shape)\n",
    "print(G_hat.shape)"
   ]
  },
  {
   "cell_type": "code",
   "execution_count": null,
   "metadata": {},
   "outputs": [],
   "source": [
    "# Hを更新\n",
    "H = update_H(H, G_hat, F_hat, lmd, threshold)\n",
    "\n",
    "np.save(f\"{DATA_PATH}/systemMatrix/H_matrix_FISTA_rand_{100*ratio}p.npy\", H)\n",
    "\n",
    "# plt.figure(figsize=(12, 8))\n",
    "# sns.heatmap(H, annot=False, cmap='viridis')"
   ]
  },
  {
   "cell_type": "code",
   "execution_count": null,
   "metadata": {},
   "outputs": [],
   "source": [
    "sample_image = Image.open(f\"{DATA_PATH}/sample_image64/Cameraman64.png\")\n",
    "sample_image = sample_image.convert('L')\n",
    "sample_image = np.asarray(sample_image).flatten() / 255\n",
    "\n",
    "Hf = H @ sample_image\n",
    "Hf_img = Hf.reshape(m, m)\n",
    "Hf_pil = Image.fromarray(np.uint8(Hf_img * 255), mode='L')\n",
    "\n",
    "DIRECTORY = DATA_PATH + '/240423'\n",
    "if not os.path.exists(DIRECTORY):\n",
    "    os.makedirs(DIRECTORY)\n",
    "FILENAME = f\"Cameraman64_{ratio}.png\"\n",
    "\n",
    "# plt.figure(figsize=(12, 8))\n",
    "# sns.heatmap(Hf_img, annot=False, cmap='viridis')\n",
    "\n",
    "fig, ax = plt.subplots(figsize=Hf_img.shape[::-1], dpi=1, tight_layout=True)\n",
    "ax.imshow(Hf_img, cmap='gray')\n",
    "ax.axis('off')\n",
    "fig.savefig(f\"{DIRECTORY}/{FILENAME}\", dpi=1)\n",
    "plt.show()\n",
    "\n",
    "# fig, ax = plt.subplots(figsize=Hf_img.shape[::-1], dpi=1, tight_layout=True)\n",
    "# ax.imshow(Hf_pil, cmap='gray')\n",
    "# ax.axis('off')\n",
    "# fig.savefig(f\"{DIRECTORY}/{FILENAME}\", dpi=1)\n",
    "# plt.show()"
   ]
  },
  {
   "cell_type": "code",
   "execution_count": null,
   "metadata": {},
   "outputs": [],
   "source": [
    "rem = np.linalg.norm(H_true-H, 'fro')\n",
    "print(rem)"
   ]
  },
  {
   "cell_type": "code",
   "execution_count": null,
   "metadata": {},
   "outputs": [],
   "source": [
    "def is_full_rank(matrix):\n",
    "    rows, cols = matrix.shape\n",
    "    rank = np.linalg.matrix_rank(matrix)\n",
    "    \n",
    "    if rank == min(rows, cols):\n",
    "        return True\n",
    "    else:\n",
    "        return False\n",
    "\n",
    "print(F_hat.T.shape)\n",
    "print(\"F is full rank:\", is_full_rank(F_hat.T))"
   ]
  }
 ],
 "metadata": {
  "kernelspec": {
   "display_name": "Python 3",
   "language": "python",
   "name": "python3"
  },
  "language_info": {
   "codemirror_mode": {
    "name": "ipython",
    "version": 3
   },
   "file_extension": ".py",
   "mimetype": "text/x-python",
   "name": "python",
   "nbconvert_exporter": "python",
   "pygments_lexer": "ipython3",
   "version": "3.11.8"
  }
 },
 "nbformat": 4,
 "nbformat_minor": 2
}
