{
 "cells": [
  {
   "cell_type": "code",
   "execution_count": null,
   "metadata": {},
   "outputs": [],
   "source": [
    "import cv2\n",
    "import numpy as np\n",
    "import math\n",
    "import matplotlib.pyplot as plt\n",
    "from PIL import Image\n",
    "\n",
    "DATA_PATH = \"../../OneDrive - m.titech.ac.jp/Lab/data\""
   ]
  },
  {
   "cell_type": "code",
   "execution_count": null,
   "metadata": {},
   "outputs": [],
   "source": [
    "H_true = np.load(f\"{DATA_PATH}/systemMatrix/H_matrix_true.npy\")\n",
    "sample_image = Image.open(f\"{DATA_PATH}/sample_image64/Cameraman64.png\").convert(\"L\")\n",
    "sample_image = np.asarray(sample_image).flatten() / 255\n",
    "\n",
    "Hf = H_true @ sample_image\n",
    "Hf_img = Hf.reshape(128, 128)\n",
    "Hf_img = np.clip(Hf_img, 0, 1)\n",
    "Hf_pil = Image.fromarray((Hf_img * 255).astype(np.uint8), mode=\"L\")\n",
    "\n",
    "FILENAME = f\"GT.png\"\n",
    "fig, ax = plt.subplots(figsize=Hf_img.shape[::-1], dpi=1, tight_layout=True)\n",
    "ax.imshow(Hf_pil, cmap=\"gray\")\n",
    "ax.axis(\"off\")\n",
    "fig.savefig(f\"{DATA_PATH}/240724/{FILENAME}\", dpi=1)\n",
    "plt.show()"
   ]
  },
  {
   "cell_type": "code",
   "execution_count": null,
   "metadata": {},
   "outputs": [],
   "source": [
    "IMG_NAME = \"Text\"\n",
    "H_SETTING = \"hadamard_FISTA_l122_p-5_lmd-100\"\n",
    "# H_SETTING = \"gf\"\n",
    "RECONST = \"admm_t-1.0\"\n",
    "Original = cv2.imread(f\"{DATA_PATH}/sample_image128/{IMG_NAME}.png\")\n",
    "Compared = cv2.imread(f\"{DATA_PATH}/240825/reconst/{IMG_NAME}_{H_SETTING}_{RECONST}_edit.png\")\n",
    "\n",
    "# 画素値の読み込み\n",
    "pixel_value_Ori = Original.flatten().astype(float)\n",
    "pixel_value_Dis = Compared.flatten().astype(float)\n",
    "\n",
    "# 画素情報の取得\n",
    "imageHeight, imageWidth, BPP = Original.shape\n",
    "\n",
    "# 画素数\n",
    "N = imageHeight * imageWidth\n",
    "\n",
    "if BPP == 1:\n",
    "    # モノクロ画像の場合\n",
    "    sum = 0\n",
    "    for i in range(N):\n",
    "        sum += pow((pixel_value_Ori[i] - pixel_value_Dis[i]), 2)\n",
    "    MSE = sum / N\n",
    "    PSNR = 10 * math.log(255 * 255 / MSE, 10)\n",
    "    print(\"PSNR\", PSNR)\n",
    "else:\n",
    "    # RGB画像の場合\n",
    "    addr = N * BPP\n",
    "\n",
    "    sumR = 0\n",
    "    sumG = 0\n",
    "    sumB = 0\n",
    "\n",
    "    # 差の2乗の総和を計算\n",
    "    for i in range(addr):\n",
    "        if i % 3 == 0:\n",
    "            sumB += pow((pixel_value_Ori[i] - pixel_value_Dis[i]), 2)\n",
    "        elif i % 3 == 1:\n",
    "            sumG += pow((pixel_value_Ori[i] - pixel_value_Dis[i]), 2)\n",
    "        else:\n",
    "            sumR += pow((pixel_value_Ori[i] - pixel_value_Dis[i]), 2)\n",
    "\n",
    "    MSE = (sumR + sumG + sumB) / (3 * N)\n",
    "    PSNR = 10 * math.log(255 * 255 / MSE, 10)\n",
    "    print(\"PSNR\", PSNR)\n"
   ]
  },
  {
   "cell_type": "code",
   "execution_count": null,
   "metadata": {},
   "outputs": [],
   "source": [
    "# SSIM\n",
    "def SSIM(img1, img2):\n",
    "    C1 = (0.01 * 255) ** 2\n",
    "    C2 = (0.03 * 255) ** 2\n",
    "\n",
    "    img1 = img1.astype(np.float64)\n",
    "    img2 = img2.astype(np.float64)\n",
    "    kernel = cv2.getGaussianKernel(11, 1.5)\n",
    "    window = np.outer(kernel, kernel.transpose())\n",
    "\n",
    "    mu1 = cv2.filter2D(img1, -1, window)[5:-5, 5:-5]  # valid\n",
    "    mu2 = cv2.filter2D(img2, -1, window)[5:-5, 5:-5]\n",
    "    mu1_sq = mu1 ** 2\n",
    "    mu2_sq = mu2 ** 2\n",
    "    mu1_mu2 = mu1 * mu2\n",
    "    sigma1_sq = cv2.filter2D(img1 ** 2, -1, window)[5:-5, 5:-5] - mu1_sq\n",
    "    sigma2_sq = cv2.filter2D(img2 ** 2, -1, window)[5:-5, 5:-5] - mu2_sq\n",
    "    sigma12 = cv2.filter2D(img1 * img2, -1, window)[5:-5, 5:-5] - mu1_mu2\n",
    "\n",
    "    ssim_map = ((2 * mu1_mu2 + C1) * (2 * sigma12 + C2)) / ((mu1_sq + mu2_sq + C1) * (sigma1_sq + sigma2_sq + C2))\n",
    "    return ssim_map.mean()\n",
    "\n",
    "\n",
    "ssim = SSIM(Original, Compared)\n",
    "print(\"SSIM\", ssim)"
   ]
  }
 ],
 "metadata": {
  "kernelspec": {
   "display_name": "Python 3",
   "language": "python",
   "name": "python3"
  },
  "language_info": {
   "codemirror_mode": {
    "name": "ipython",
    "version": 3
   },
   "file_extension": ".py",
   "mimetype": "text/x-python",
   "name": "python",
   "nbconvert_exporter": "python",
   "pygments_lexer": "ipython3",
   "version": "3.11.8"
  }
 },
 "nbformat": 4,
 "nbformat_minor": 2
}
