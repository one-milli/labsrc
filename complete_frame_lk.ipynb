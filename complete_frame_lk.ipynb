{
 "cells": [
  {
   "cell_type": "code",
   "execution_count": 1,
   "metadata": {},
   "outputs": [],
   "source": [
    "import cv2\n",
    "import numpy as np\n",
    "from matplotlib import pyplot as plt\n",
    "\n",
    "\n",
    "def ensure_uint8(image):\n",
    "    if image.dtype != np.uint8:\n",
    "        # 正規化されている場合（0〜1）、0〜255にスケール\n",
    "        if image.max() <= 1.0:\n",
    "            image = (image * 255).astype(np.uint8)\n",
    "        else:\n",
    "            image = image.astype(np.uint8)\n",
    "    return image\n",
    "\n",
    "\n",
    "def compute_optical_flow_lk(frame_a, frame_b, feature_params, lk_params):\n",
    "    frame_a = ensure_uint8(frame_a)\n",
    "    frame_b = ensure_uint8(frame_b)\n",
    "\n",
    "    # 特徴点の検出\n",
    "    p0 = cv2.goodFeaturesToTrack(frame_a, mask=None, **feature_params)\n",
    "    if p0 is None:\n",
    "        raise ValueError(\"特徴点が検出されませんでした。フレームの内容やパラメータを確認してください。\")\n",
    "\n",
    "    # オプティカルフローの計算\n",
    "    p1, st, err = cv2.calcOpticalFlowPyrLK(frame_a, frame_b, p0, None, **lk_params)\n",
    "\n",
    "    # 有効なフローのみを抽出\n",
    "    good_p0 = p0[st == 1]\n",
    "    good_p1 = p1[st == 1]\n",
    "\n",
    "    # フローベクトルを計算\n",
    "    flow = good_p1 - good_p0\n",
    "\n",
    "    return good_p0, flow\n",
    "\n",
    "\n",
    "def warp_frame(frame, points, flow, scale=0.5):\n",
    "    h, w = frame.shape[:2]\n",
    "    warped = np.zeros_like(frame)\n",
    "\n",
    "    for (x, y), (dx, dy) in zip(points, flow):\n",
    "        src_x = int(x + dx * scale)\n",
    "        src_y = int(y + dy * scale)\n",
    "\n",
    "        if 0 <= src_x < w and 0 <= src_y < h:\n",
    "            warped[src_y, src_x] = frame[int(y), int(x)]\n",
    "\n",
    "    # 欠損部分を補完（ここでは単純にコピー）\n",
    "    warped = cv2.blur(warped, (5, 5))\n",
    "\n",
    "    return warped\n",
    "\n",
    "\n",
    "def estimate_middle_frame_lk(frame_a, frame_b, feature_params, lk_params):\n",
    "    # オプティカルフローの計算\n",
    "    points, flow = compute_optical_flow_lk(frame_a, frame_b, feature_params, lk_params)\n",
    "\n",
    "    # フレームAからCへのワープ\n",
    "    warped_a = warp_frame(frame_a, points, flow, scale=0.5)\n",
    "\n",
    "    # フレームBからCへのワープ（逆方向のフロー）\n",
    "    warped_b = warp_frame(frame_b, points, -flow, scale=0.5)\n",
    "\n",
    "    # ブレンディング（単純な平均）\n",
    "    frame_c = cv2.addWeighted(warped_a, 0.5, warped_b, 0.5, 0)\n",
    "\n",
    "    return frame_c"
   ]
  },
  {
   "cell_type": "code",
   "execution_count": 2,
   "metadata": {},
   "outputs": [],
   "source": [
    "# DATA_PATH = \"../data\"\n",
    "DATA_PATH = \"../../OneDrive - m.titech.ac.jp/Lab/data\"\n",
    "H_SETTING = \"hadamard_FISTA_p-5_lmd-1_m-128\"\n",
    "H_tensor = np.load(f\"{DATA_PATH}/241022/systemMatrix/H_tensor_{H_SETTING}.npy\")"
   ]
  },
  {
   "cell_type": "code",
   "execution_count": 4,
   "metadata": {},
   "outputs": [],
   "source": [
    "# フレームの読み込み\n",
    "frame_a = H_tensor[63, :, :]\n",
    "frame_b =H_tensor[65, :, :]\n",
    "\n",
    "# Lucas-Kanade法のパラメータ設定\n",
    "feature_params = dict(maxCorners=1000,\n",
    "                        qualityLevel=0.01,\n",
    "                        minDistance=7,\n",
    "                        blockSize=7)\n",
    "\n",
    "lk_params = dict(winSize=(15, 15),\n",
    "                maxLevel=2,\n",
    "                criteria=(cv2.TERM_CRITERIA_EPS | cv2.TERM_CRITERIA_COUNT, 10, 0.03))\n",
    "\n",
    "# 中間フレームCの推定\n",
    "frame_c = estimate_middle_frame_lk(frame_a, frame_b, feature_params, lk_params)"
   ]
  },
  {
   "cell_type": "code",
   "execution_count": 5,
   "metadata": {},
   "outputs": [
    {
     "data": {
      "image/png": "[encoded data removed]",
      "text/plain": [
       "<Figure size 1500x500 with 3 Axes>"
      ]
     },
     "metadata": {},
     "output_type": "display_data"
    }
   ],
   "source": [
    "# 結果の表示\n",
    "fig, axs = plt.subplots(1, 3, figsize=(15, 5))\n",
    "axs[0].imshow(frame_a, cmap='gray')\n",
    "axs[1].imshow(frame_b, cmap='gray')\n",
    "axs[2].imshow(frame_c, cmap='gray')\n",
    "plt.tight_layout()\n",
    "plt.show()\n",
    "# cv2.imwrite('frame_c.png', frame_c)"
   ]
  }
 ],
 "metadata": {
  "kernelspec": {
   "display_name": "Python 3",
   "language": "python",
   "name": "python3"
  },
  "language_info": {
   "codemirror_mode": {
    "name": "ipython",
    "version": 3
   },
   "file_extension": ".py",
   "mimetype": "text/x-python",
   "name": "python",
   "nbconvert_exporter": "python",
   "pygments_lexer": "ipython3",
   "version": "3.11.8"
  }
 },
 "nbformat": 4,
 "nbformat_minor": 2
}
