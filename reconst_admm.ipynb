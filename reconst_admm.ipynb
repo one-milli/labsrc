{
 "cells": [
  {
   "cell_type": "code",
   "execution_count": null,
   "metadata": {},
   "outputs": [],
   "source": [
    "import numpy as np\n",
    "import scipy.sparse as ssp\n",
    "import scipy.io as sio\n",
    "from PIL import Image\n",
    "import admm"
   ]
  },
  {
   "cell_type": "code",
   "execution_count": null,
   "metadata": {},
   "outputs": [],
   "source": [
    "# DATA_PATH = '../../../OneDrive - m.titech.ac.jp/Lab/data'\n",
    "DATA_PATH = '../data'\n",
    "OBJ_NAME = \"Cameraman\"\n",
    "H_SETTING = \"hadamard_pr-du_p-5_lmd1-10.0_lmd2-1000.0\"\n",
    "# H_SETTING = \"gf\"\n",
    "n = 128\n",
    "m = 192\n",
    "tau = 1e0"
   ]
  },
  {
   "cell_type": "code",
   "execution_count": null,
   "metadata": {},
   "outputs": [],
   "source": [
    "def createDrgb(n):\n",
    "    I = ssp.eye(n**2, format=\"lil\")\n",
    "\n",
    "    Dx = I - ssp.lil_matrix(np.roll(I.toarray(), 1, axis=1))\n",
    "    Dx[n - 1 :: n, :] = 0\n",
    "    Dy = I - ssp.lil_matrix(np.roll(I.toarray(), n, axis=1))\n",
    "    Dy[-n:, :] = 0\n",
    "    D0 = ssp.lil_matrix((n**2, n**2))\n",
    "\n",
    "    D = ssp.block_array([[Dx, D0, D0], [D0, Dx, D0], [D0, D0, Dx], [Dy, D0, D0], [D0, Dy, D0], [D0, D0, Dy]])\n",
    "\n",
    "    return D\n",
    "\n",
    "\n",
    "def createDmono(n):\n",
    "    I = ssp.eye(n**2, format=\"lil\")\n",
    "\n",
    "    Dx = I - ssp.lil_matrix(np.roll(I.toarray(), 1, axis=1))\n",
    "    Dx[n - 1 :: n, :] = 0\n",
    "    Dy = I - ssp.lil_matrix(np.roll(I.toarray(), n, axis=1))\n",
    "    Dy[-n:, :] = 0\n",
    "\n",
    "    D = ssp.vstack([Dx, Dy])\n",
    "\n",
    "    return D\n",
    "\n",
    "\n",
    "# D = createDrgb(n)\n",
    "D = createDmono(n)\n",
    "D = D.toarray()\n",
    "print(\"Created D\")"
   ]
  },
  {
   "cell_type": "code",
   "execution_count": null,
   "metadata": {},
   "outputs": [],
   "source": [
    "captured = Image.open(f\"{DATA_PATH}/capture_240814/{OBJ_NAME}.png\").convert(\"L\")\n",
    "captured = captured.resize((m, m))\n",
    "captured = np.array(captured)\n",
    "g = captured.reshape(-1, 1)"
   ]
  },
  {
   "cell_type": "code",
   "execution_count": null,
   "metadata": {},
   "outputs": [],
   "source": [
    "H = np.load(f\"{DATA_PATH}/240825/systemMatrix/H_matrix_{H_SETTING}.npy\")\n",
    "print(\"H shape:\", H.shape, \"type(H):\", type(H), \"H.dtype:\", H.dtype)"
   ]
  },
  {
   "cell_type": "code",
   "execution_count": null,
   "metadata": {},
   "outputs": [],
   "source": [
    "admm = admm.Admm(H, g, D, tau)\n",
    "f, err = admm.solve()"
   ]
  },
  {
   "cell_type": "code",
   "execution_count": null,
   "metadata": {},
   "outputs": [],
   "source": [
    "f = np.clip(f, 0, 1) * 255\n",
    "F = f.reshape(n, n)\n",
    "F = F.astype(np.uint8)\n",
    "F_image = Image.fromarray(F)\n",
    "mu1 = np.log10(admm.mu1)\n",
    "mu2 = np.log10(admm.mu2)\n",
    "mu3 = np.log10(admm.mu3)\n",
    "SAVE_PATH = f\"{DATA_PATH}/240825/reconst/{OBJ_NAME}_{H_SETTING}_admm_t-{tau}_m{mu1}m{mu2}m{mu3}.png\"\n",
    "F_image.save(SAVE_PATH)\n",
    "print(SAVE_PATH)"
   ]
  }
 ],
 "metadata": {
  "kernelspec": {
   "display_name": "Python 3",
   "language": "python",
   "name": "python3"
  },
  "language_info": {
   "codemirror_mode": {
    "name": "ipython",
    "version": 3
   },
   "file_extension": ".py",
   "mimetype": "text/x-python",
   "name": "python",
   "nbconvert_exporter": "python",
   "pygments_lexer": "ipython3",
   "version": "3.11.8"
  }
 },
 "nbformat": 4,
 "nbformat_minor": 2
}
