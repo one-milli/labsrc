{
 "cells": [
  {
   "cell_type": "code",
   "execution_count": null,
   "metadata": {},
   "outputs": [],
   "source": [
    "import cupy as cp\n",
    "import matplotlib.pyplot as plt\n",
    "\n",
    "# パラメータの設定\n",
    "m = 128\n",
    "LAMBDA = 100\n",
    "RATIO = 0.05\n",
    "DATA_PATH = \"../data\"\n",
    "DIRECTORY = f\"{DATA_PATH}/241105\"\n",
    "SETTING = f\"p-{int(100 * RATIO)}_lmd-{LAMBDA}_m-{m}\"\n",
    "npy_file = f\"{DIRECTORY}/systemMatrix/H_matrix_{SETTING}.npy\"\n",
    "\n",
    "# .npyファイルの読み込み\n",
    "try:\n",
    "    matrix = cp.load(npy_file)\n",
    "    print(f\"Successfully loaded {npy_file}\")\n",
    "except FileNotFoundError:\n",
    "    print(f\"File not found: {npy_file}\")\n",
    "    exit(1)\n",
    "except Exception as e:\n",
    "    print(f\"An error occurred while loading the file: {e}\")\n",
    "    exit(1)\n",
    "\n",
    "# データを1次元にフラット化\n",
    "data = matrix.flatten()\n",
    "\n",
    "# 度数分布のためのビンの設定\n",
    "bin_width = 0.0001\n",
    "bins = cp.arange(0, 0.001 + bin_width, bin_width)  # 0.0 から 0.001 まで0.0001刻み\n",
    "\n",
    "# ヒストグラムの計算\n",
    "counts, bin_edges = cp.histogram(data, bins=bins)\n",
    "\n",
    "# 度数分布の表示\n",
    "print(\"Degree Frequency Distribution:\")\n",
    "for i in range(len(counts)):\n",
    "    print(f\"{bin_edges[i]:.4f} - {bin_edges[i+1]:.4f}: {counts[i]}\")\n",
    "\n",
    "# ヒストグラムのプロット（オプション）\n",
    "plt.figure(figsize=(8, 6))\n",
    "plt.hist(data.get(), bins=bins.get(), edgecolor='black', alpha=0.7)\n",
    "plt.xlabel('Value')\n",
    "plt.ylabel('Frequency')\n",
    "plt.title('Frequency Distribution of H_matrix')\n",
    "plt.grid(True)\n",
    "plt.show()\n"
   ]
  }
 ],
 "metadata": {
  "language_info": {
   "name": "python"
  }
 },
 "nbformat": 4,
 "nbformat_minor": 2
}
