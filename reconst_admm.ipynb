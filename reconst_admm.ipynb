{
 "cells": [
  {
   "cell_type": "code",
   "execution_count": null,
   "metadata": {},
   "outputs": [],
   "source": [
    "import os\n",
    "import numpy as np\n",
    "import cupy as cp\n",
    "import scipy.sparse as ssp\n",
    "from PIL import Image\n",
    "import package.myUtil as myUtil\n",
    "import admm"
   ]
  },
  {
   "cell_type": "code",
   "execution_count": null,
   "metadata": {},
   "outputs": [],
   "source": [
    "# DATA_PATH = '../../../OneDrive - m.titech.ac.jp/Lab/data'\n",
    "DATA_PATH = '../data'\n",
    "OBJ_NAME = \"Cameraman\"\n",
    "# H_SETTING = \"FISTA_p-5_lmd-100_m-255\"\n",
    "H_SETTING = \"gf\"\n",
    "CAP_DATE = \"241114\"\n",
    "EXP_DATE = \"241118\"\n",
    "n = 128\n",
    "m = 255"
   ]
  },
  {
   "cell_type": "code",
   "execution_count": null,
   "metadata": {},
   "outputs": [],
   "source": [
    "def create_D_mono(n):\n",
    "    I = ssp.eye(n**2, format=\"csr\")\n",
    "\n",
    "    Dx = I - ssp.csr_matrix(np.roll(I.toarray(), 1, axis=1))\n",
    "    Dx[n - 1 :: n, :] = 0\n",
    "    Dy = I - ssp.csr_matrix(np.roll(I.toarray(), n, axis=1))\n",
    "    Dy[-n:, :] = 0\n",
    "\n",
    "    return ssp.vstack([Dx, Dy])\n",
    "\n",
    "\n",
    "D = create_D_mono(n)\n",
    "D = cp.array(D.toarray())"
   ]
  },
  {
   "cell_type": "code",
   "execution_count": null,
   "metadata": {},
   "outputs": [],
   "source": [
    "captured = Image.open(f\"{DATA_PATH}/capture_{CAP_DATE}/{OBJ_NAME}.png\").convert(\"L\")\n",
    "captured = cp.asarray(captured)\n",
    "black = myUtil.calculate_bias(m**2, DATA_PATH, CAP_DATE)\n",
    "g = captured.ravel() - black"
   ]
  },
  {
   "cell_type": "code",
   "execution_count": null,
   "metadata": {},
   "outputs": [],
   "source": [
    "PREFIX = \"\"\n",
    "# PREFIX = \"int_\"\n",
    "H = cp.load(f\"{DATA_PATH}/{EXP_DATE}/systemMatrix/H_matrix_{PREFIX}{H_SETTING}.npy\").astype(cp.float32)\n",
    "print(\"H shape:\", H.shape, \"type(H):\", type(H), \"H.dtype:\", H.dtype)"
   ]
  },
  {
   "cell_type": "code",
   "execution_count": null,
   "metadata": {},
   "outputs": [],
   "source": [
    "admm = admm.Admm(H, g, D)"
   ]
  },
  {
   "cell_type": "code",
   "execution_count": null,
   "metadata": {},
   "outputs": [],
   "source": [
    "f, err = admm.solve()"
   ]
  },
  {
   "cell_type": "code",
   "execution_count": null,
   "metadata": {},
   "outputs": [],
   "source": [
    "f = cp.clip(f, 0, 1)\n",
    "f = cp.asnumpy(f.reshape(n, n))\n",
    "f_image = Image.fromarray((f*255).astype(np.uint8), mode=\"L\")\n",
    "\n",
    "tau = np.log10(admm.tau)\n",
    "mu1 = np.log10(admm.mu1)\n",
    "mu2 = np.log10(admm.mu2)\n",
    "mu3 = np.log10(admm.mu3)\n",
    "\n",
    "if not os.path.exists(f\"{DATA_PATH}/{EXP_DATE}/reconst\"):\n",
    "    os.makedirs(f\"{DATA_PATH}/{EXP_DATE}/reconst\")\n",
    "SAVE_PATH = f\"{DATA_PATH}/{EXP_DATE}/reconst/{OBJ_NAME}_{H_SETTING}_admm_t-{tau}_m{mu1}m{mu2}m{mu3}.png\"\n",
    "f_image.save(SAVE_PATH, format=\"PNG\")\n",
    "print(SAVE_PATH)"
   ]
  }
 ],
 "metadata": {
  "kernelspec": {
   "display_name": "Python 3",
   "language": "python",
   "name": "python3"
  },
  "language_info": {
   "codemirror_mode": {
    "name": "ipython",
    "version": 3
   },
   "file_extension": ".py",
   "mimetype": "text/x-python",
   "name": "python",
   "nbconvert_exporter": "python",
   "pygments_lexer": "ipython3",
   "version": "3.11.8"
  }
 },
 "nbformat": 4,
 "nbformat_minor": 2
}
