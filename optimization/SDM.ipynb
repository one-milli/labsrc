{
 "cells": [
  {
   "cell_type": "markdown",
   "metadata": {},
   "source": [
    "# Steepest Descent Method"
   ]
  },
  {
   "cell_type": "code",
   "execution_count": null,
   "metadata": {},
   "outputs": [],
   "source": [
    "import random\n",
    "import numpy as np\n",
    "import matplotlib.pyplot as plt\n",
    "import seaborn as sns\n",
    "from PIL import Image\n",
    "from scipy import sparse\n",
    "import os\n",
    "import re"
   ]
  },
  {
   "cell_type": "code",
   "execution_count": null,
   "metadata": {},
   "outputs": [],
   "source": [
    "def images_to_matrix(folder_path, convert_gray=False, is_binary=False, cap=False, seed=0, ratio=1.0):\n",
    "    files = os.listdir(folder_path)\n",
    "    if cap:\n",
    "        files.sort(key=lambda f: int(\n",
    "            re.search('hadamard64_(\\d+).png', f).group(1)))\n",
    "    else:\n",
    "        files.sort(key=lambda f: int(\n",
    "            re.search('hadamard_(\\d+).png', f).group(1)))\n",
    "\n",
    "    selected_files = files\n",
    "\n",
    "    if seed != 0:\n",
    "        random.seed(seed)\n",
    "        random.shuffle(files)\n",
    "        number_of_files_to_load = int(len(files) * ratio)\n",
    "        selected_files = files[:number_of_files_to_load]\n",
    "        if cap:\n",
    "            selected_files.sort(key=lambda f: int(re.search('hadamard64_(\\d+).png', f).group(1)))\n",
    "        else:\n",
    "            selected_files.sort(key=lambda f: int(re.search('hadamard_(\\d+).png', f).group(1)))\n",
    "\n",
    "    images = []\n",
    "\n",
    "    for file in selected_files:\n",
    "        print(file)\n",
    "        img = Image.open(os.path.join(folder_path, file))\n",
    "        if convert_gray:\n",
    "            img = img.convert('L')\n",
    "        if is_binary:\n",
    "            img = img.point(lambda x: 255 if x else 0, 'L')\n",
    "        img_array = np.asarray(img).flatten()\n",
    "        img_array = img_array / 255\n",
    "        images.append(img_array)\n",
    "    return np.column_stack(images)\n",
    "\n",
    "\n",
    "def update_H(H, G, F, gamma, threshold):\n",
    "    i = 1\n",
    "    H_prev = H.copy()\n",
    "    while True:\n",
    "        grad = 2 * (H @ F - G) @ F.T\n",
    "        H = H - gamma * grad\n",
    "        norm = np.linalg.norm(grad, 'fro')\n",
    "        error = np.linalg.norm(H - H_prev, 'fro')\n",
    "\n",
    "        print('iter: {}, norm: {}, error: {}'.format(i, norm, error))\n",
    "        if norm < threshold:\n",
    "            break\n",
    "        H_prev = H.copy()\n",
    "        i += 1\n",
    "    return H\n"
   ]
  },
  {
   "cell_type": "code",
   "execution_count": null,
   "metadata": {},
   "outputs": [],
   "source": [
    "# パラメータ設定\n",
    "n = 64\n",
    "m = 128\n",
    "gamma = 0.0001\n",
    "threshold = 0.001"
   ]
  },
  {
   "cell_type": "code",
   "execution_count": null,
   "metadata": {},
   "outputs": [],
   "source": [
    "# 真のシステム行列の計算\n",
    "G_full = images_to_matrix('../data/hadamard'+str(n)+'_cap_W_sim/',\n",
    "                     convert_gray=True, cap=True)\n",
    "F_full = images_to_matrix('../data/Hadamard'+str(n)+'_input/', is_binary=True)\n",
    "H1 = np.zeros((m**2, n**2))\n",
    "G1s = []\n",
    "for i in range(n**2):\n",
    "    G1s.append(G_full[:, 0])\n",
    "H1 = np.column_stack(G1s)\n",
    "F_hat_full = 2*F_full-1\n",
    "G_hat_full = 2*G_full-H1\n",
    "H_true = G_hat_full@F_hat_full.T/(n**2)\n",
    "# plt.figure(figsize=(12, 8))\n",
    "# sns.heatmap(H_true, annot=False, cmap='viridis')"
   ]
  },
  {
   "cell_type": "code",
   "execution_count": null,
   "metadata": {},
   "outputs": [],
   "source": [
    "# 初期化\n",
    "H = np.zeros((m**2, n**2))\n",
    "ratio = 0.5\n",
    "\n",
    "G = images_to_matrix('../data/hadamard'+str(n)+'_cap_W_sim/',\n",
    "                     convert_gray=True, cap=True, seed=2, ratio=ratio)"
   ]
  },
  {
   "cell_type": "code",
   "execution_count": null,
   "metadata": {},
   "outputs": [],
   "source": [
    "F = images_to_matrix('../data/Hadamard'+str(n)+'_input/', is_binary=True, seed=2, ratio=ratio)"
   ]
  },
  {
   "cell_type": "code",
   "execution_count": null,
   "metadata": {},
   "outputs": [],
   "source": [
    "H1 = np.zeros((m**2, int(n**2*ratio)))\n",
    "G1s = []\n",
    "for i in range(int(n**2*ratio)):\n",
    "    G1s.append(G[:, 0])\n",
    "H1 = np.column_stack(G1s)\n",
    "F_hat = 2*F-1\n",
    "G_hat = 2*G-H1\n",
    "# plt.figure(figsize=(12, 8))\n",
    "# sns.heatmap(F_hat, annot=False, cmap='viridis')\n",
    "# plt.figure(figsize=(12, 8))\n",
    "# sns.heatmap(G_hat, annot=False, cmap='viridis')"
   ]
  },
  {
   "cell_type": "code",
   "execution_count": null,
   "metadata": {},
   "outputs": [],
   "source": [
    "# Hを更新\n",
    "H = update_H(H, G_hat, F_hat, gamma, threshold)\n",
    "\n",
    "np.save('../data/systemMatrix/H_matrix.npy', H)\n",
    "\n",
    "plt.figure(figsize=(12, 8))\n",
    "sns.heatmap(H, annot=False, cmap='viridis')"
   ]
  },
  {
   "cell_type": "code",
   "execution_count": null,
   "metadata": {},
   "outputs": [],
   "source": [
    "sample_image = Image.open('../data/sample_image64/Cameraman64.png')\n",
    "sample_image = sample_image.convert('L')\n",
    "sample_image = np.asarray(sample_image).flatten()/255\n",
    "\n",
    "plt.figure(figsize=(3, 3))\n",
    "plt.imshow(sample_image.reshape(n,n), cmap='gray')\n",
    "plt.axis('off')\n",
    "plt.show()\n",
    "\n",
    "plt.figure(figsize=(3, 3))\n",
    "grand_truth = Image.open('../data/sample_image64_cap_sim/Cameraman64.png')\n",
    "plt.imshow(grand_truth, cmap='gray')\n",
    "plt.axis('off')\n",
    "plt.show()"
   ]
  },
  {
   "cell_type": "code",
   "execution_count": null,
   "metadata": {},
   "outputs": [],
   "source": [
    "Hf = H@sample_image\n",
    "# plt.figure(figsize=(12, 8))\n",
    "# sns.heatmap(Hf.reshape(m,m), annot=False, cmap='viridis')\n",
    "plt.imshow(Hf.reshape(m, m), cmap='gray')\n",
    "plt.axis('off')\n",
    "plt.savefig('../data/240130/Cameraman64_'+str(ratio) +\n",
    "            '.png', bbox_inches='tight', pad_inches=0)\n",
    "plt.show()"
   ]
  },
  {
   "cell_type": "code",
   "execution_count": null,
   "metadata": {},
   "outputs": [],
   "source": [
    "Hf_true = H_true@sample_image\n",
    "plt.imshow(Hf_true.reshape(m, m), cmap='gray')\n",
    "plt.axis('off')\n",
    "# plt.savefig('../data/240130/Cameraman64_.png', bbox_inches='tight', pad_inches=0)\n",
    "plt.show()\n",
    "# plt.figure(figsize=(12, 8))\n",
    "# sns.heatmap(HF, annot=False, cmap='viridis')"
   ]
  },
  {
   "cell_type": "code",
   "execution_count": null,
   "metadata": {},
   "outputs": [],
   "source": [
    "rem = np.linalg.norm(H_true-H, 'fro')\n",
    "print(rem)"
   ]
  }
 ],
 "metadata": {
  "kernelspec": {
   "display_name": "Python 3",
   "language": "python",
   "name": "python3"
  },
  "language_info": {
   "codemirror_mode": {
    "name": "ipython",
    "version": 3
   },
   "file_extension": ".py",
   "mimetype": "text/x-python",
   "name": "python",
   "nbconvert_exporter": "python",
   "pygments_lexer": "ipython3",
   "version": "3.9.7"
  }
 },
 "nbformat": 4,
 "nbformat_minor": 2
}
