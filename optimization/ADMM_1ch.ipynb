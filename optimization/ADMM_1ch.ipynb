{
 "cells": [
  {
   "cell_type": "code",
   "execution_count": null,
   "metadata": {},
   "outputs": [],
   "source": [
    "import numpy as np\n",
    "from PIL import Image\n",
    "from scipy.linalg import solve\n",
    "import time\n",
    "import matplotlib.pyplot as plt"
   ]
  },
  {
   "cell_type": "code",
   "execution_count": null,
   "metadata": {},
   "outputs": [],
   "source": [
    "DATA_PATH = '../../../OneDrive - m.titech.ac.jp/Lab/data/'"
   ]
  },
  {
   "cell_type": "code",
   "execution_count": null,
   "metadata": {},
   "outputs": [],
   "source": [
    "def calc_err(f, temp, n):\n",
    "    image = f[:n ** 2].reshape((n, n))\n",
    "    diff = temp - image\n",
    "    fenzi = np.linalg.norm(diff, 'fro')\n",
    "    fenmu = np.linalg.norm(image, 'fro')\n",
    "\n",
    "    error = fenzi / fenmu\n",
    "    return error, image"
   ]
  },
  {
   "cell_type": "code",
   "execution_count": null,
   "metadata": {},
   "outputs": [],
   "source": [
    "# Parameter\n",
    "object = 'hadamard64_72R'\n",
    "s = 128  # input\n",
    "n = 64  # output\n",
    "eps = 0.01\n",
    "# Image range\n",
    "r1 = 460\n",
    "r2 = 920\n",
    "c1 = 400\n",
    "c2 = 860\n",
    "# Hyper-parameters in the ADMM implementation\n",
    "mu1 = 10\n",
    "mu2 = 1.0e-1\n",
    "tau = 1.0e-3"
   ]
  },
  {
   "cell_type": "code",
   "execution_count": null,
   "metadata": {},
   "outputs": [],
   "source": [
    "# load system matrix\n",
    "H = np.load(DATA_PATH + 'systemMatrix/H_matrix_true.npy')\n",
    "HTH = H.T @ H"
   ]
  },
  {
   "cell_type": "code",
   "execution_count": null,
   "metadata": {},
   "outputs": [],
   "source": [
    "# read captured image and stretch\n",
    "g = Image.open(f'{DATA_PATH}capture_230516/{object}.png')\n",
    "g = g.convert('L')\n",
    "g = g.crop((c1, r1, c2, r2))\n",
    "g = g.resize((s, s))\n",
    "g = np.array(g).astype(np.float64) / 255\n",
    "Image.fromarray((g * 255).astype(np.uint8)).save(f'{DATA_PATH}bef_reconst/cap_230516/{object}.png')\n",
    "plt.figure(1)\n",
    "plt.imshow(g, cmap='gray')\n",
    "plt.show()\n",
    "g_col = g.reshape(-1, 1)"
   ]
  },
  {
   "cell_type": "code",
   "execution_count": null,
   "metadata": {},
   "outputs": [],
   "source": [
    "Dy = np.eye(n ** 2) - np.roll(np.eye(n ** 2), 1, axis=1)\n",
    "Dx = np.eye(n ** 2) - np.roll(np.eye(n ** 2), n, axis=1)\n",
    "D0 = np.zeros((n ** 2, n ** 2))\n",
    "D = np.vstack((Dy, Dx))\n",
    "DTD = D.T @ D"
   ]
  },
  {
   "cell_type": "code",
   "execution_count": null,
   "metadata": {},
   "outputs": [],
   "source": [
    "def Psi(f):\n",
    "    return D @ f\n",
    "\n",
    "\n",
    "def SoftThresh(x, t):\n",
    "    return np.maximum(np.abs(x) - t, 0) * np.sign(x)\n",
    "\n",
    "\n",
    "def R_k(W, Z, rho_w, rho_z, G, xi):\n",
    "    return H.T @ (mu1 * G - xi) + D.T @ (mu2 * Z - rho_z) + mu2 * W - rho_w"
   ]
  },
  {
   "cell_type": "code",
   "execution_count": null,
   "metadata": {},
   "outputs": [],
   "source": [
    "# get init matrices\n",
    "G = np.zeros((s ** 2, 1))\n",
    "Z = np.zeros((2 * n ** 2, 1))\n",
    "f = np.zeros((n ** 2, 1))\n",
    "W = np.zeros((n ** 2, 1))\n",
    "xi = np.zeros((s ** 2, 1))\n",
    "rho_z = mu2 * Psi(f)\n",
    "rho_w = W\n",
    "\n",
    "temp = np.zeros((n, n))"
   ]
  },
  {
   "cell_type": "code",
   "execution_count": null,
   "metadata": {},
   "outputs": [],
   "source": [
    "err = []\n",
    "iters = 0\n",
    "\n",
    "divmat = 1 / (1 + mu1)\n",
    "\n",
    "while iters < 200:\n",
    "    iters += 1\n",
    "\n",
    "    # f_update f <- argmin_f L\n",
    "    f1 = mu1 * HTH + mu2 * DTD + mu2 * np.eye(n ** 2)\n",
    "    f2 = R_k(W, Z, rho_w, rho_z, G, xi)\n",
    "    f = solve(f1, f2)\n",
    "\n",
    "    # Z_update z <- argmin_z L\n",
    "    Z = SoftThresh(Psi(f) + rho_z / mu2, tau / mu2)  # Proximal operator\n",
    "\n",
    "    # W_update 0<=W<=1\n",
    "    W = np.clip(f + rho_w / mu2, 0, 1)\n",
    "\n",
    "    # G_update\n",
    "    G = divmat * (mu1 * H @ f + g_col)\n",
    "\n",
    "    # eta_update\n",
    "    rho_z = rho_z + mu2 * (Psi(f) - Z)  # Lagrange multipliers associated with Z\n",
    "\n",
    "    # rho_update\n",
    "    rho_w = rho_w + mu2 * (f - W)  # Lagrange multipliers associated with W\n",
    "\n",
    "    # calculate error\n",
    "    error, temp = calc_err(f, temp, n)\n",
    "    err.append(error)\n",
    "    print(f'Iteration= {iters},  e = {error}')\n",
    "\n",
    "    if error < eps:\n",
    "        break"
   ]
  },
  {
   "cell_type": "code",
   "execution_count": null,
   "metadata": {},
   "outputs": [],
   "source": [
    "F = np.zeros((n, n))\n",
    "F = temp\n",
    "\n",
    "plt.figure(2)\n",
    "plt.imshow(F, cmap='gray')\n",
    "plt.show()\n",
    "Image.fromarray((F * 255).astype(np.uint8)).save(f'{DATA_PATH}reconst/ADMM_240408/1e-2{object}!t{int(np.log10(tau))},m1{int(np.log10(mu1))},m2{int(np.log10(mu2))}.png')\n"
   ]
  },
  {
   "cell_type": "code",
   "execution_count": null,
   "metadata": {},
   "outputs": [],
   "source": [
    "\n",
    "x_axis = np.arange(1, iters + 1)\n",
    "plt.figure(3)\n",
    "plt.plot(x_axis, err[0, :iters])\n",
    "plt.savefig(f'{DATA_PATH}reconst/ADMM_240408/1e-2{object}!t{int(np.log10(tau))},m1{int(np.log10(mu1))},m2{int(np.log10(mu2))}_gr.png')\n",
    "plt.show()"
   ]
  }
 ],
 "metadata": {
  "kernelspec": {
   "display_name": "Python 3",
   "language": "python",
   "name": "python3"
  },
  "language_info": {
   "codemirror_mode": {
    "name": "ipython",
    "version": 3
   },
   "file_extension": ".py",
   "mimetype": "text/x-python",
   "name": "python",
   "nbconvert_exporter": "python",
   "pygments_lexer": "ipython3",
   "version": "3.11.8"
  }
 },
 "nbformat": 4,
 "nbformat_minor": 2
}
