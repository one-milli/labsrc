{
 "cells": [
  {
   "cell_type": "code",
   "execution_count": null,
   "metadata": {},
   "outputs": [],
   "source": [
    "import numpy as np\n",
    "import scipy.sparse as sps\n",
    "import scipy.io as sio\n",
    "from PIL import Image\n",
    "import admm"
   ]
  },
  {
   "cell_type": "code",
   "execution_count": null,
   "metadata": {},
   "outputs": [],
   "source": [
    "# DATA_PATH = '../../../OneDrive - m.titech.ac.jp/Lab/data'\n",
    "DATA_PATH = '../data'\n",
    "OBJ_NAME = \"Text\"\n",
    "H_SETTING = \"hadamard_FISTA_l122_p-10_lmd-100\"\n",
    "n = 128\n",
    "m = 256\n",
    "tau = 1e1"
   ]
  },
  {
   "cell_type": "code",
   "execution_count": null,
   "metadata": {},
   "outputs": [],
   "source": [
    "def createDrgb(n):\n",
    "    I = sps.eye(n**2, format=\"lil\")\n",
    "\n",
    "    Dx = I - sps.lil_matrix(np.roll(I.toarray(), 1, axis=1))\n",
    "    Dx[n - 1 :: n, :] = 0\n",
    "    Dy = I - sps.lil_matrix(np.roll(I.toarray(), n, axis=1))\n",
    "    Dy[-n:, :] = 0\n",
    "    D0 = sps.lil_matrix((n**2, n**2))\n",
    "\n",
    "    D = sps.block_array([[Dx, D0, D0], [D0, Dx, D0], [D0, D0, Dx], [Dy, D0, D0], [D0, Dy, D0], [D0, D0, Dy]])\n",
    "\n",
    "    return D\n",
    "\n",
    "\n",
    "def createDmono(n):\n",
    "    I = sps.eye(n**2, format=\"lil\")\n",
    "\n",
    "    Dx = I - sps.lil_matrix(np.roll(I.toarray(), 1, axis=1))\n",
    "    Dx[n - 1 :: n, :] = 0\n",
    "    Dy = I - sps.lil_matrix(np.roll(I.toarray(), n, axis=1))\n",
    "    Dy[-n:, :] = 0\n",
    "\n",
    "    D = sps.vstack([Dx, Dy])\n",
    "\n",
    "    return D\n",
    "\n",
    "\n",
    "# D = createDrgb(n)\n",
    "D = createDmono(n)\n",
    "print(\"Created D\")"
   ]
  },
  {
   "cell_type": "code",
   "execution_count": null,
   "metadata": {},
   "outputs": [],
   "source": [
    "# captured = Image.open(f\"{DATA_PATH}/capture_240814/{OBJ_NAME}_edited.png\")\n",
    "captured = Image.open(f\"{DATA_PATH}/capture_240814/{OBJ_NAME}_edited.png\").convert(\"L\")\n",
    "# captured = captured.crop((400, 460, 860, 920)).resize((n, n))\n",
    "captured = np.array(captured)\n",
    "g = captured.reshape(-1, 1)"
   ]
  },
  {
   "cell_type": "code",
   "execution_count": null,
   "metadata": {},
   "outputs": [],
   "source": [
    "# H = np.load(f\"{DATA_PATH}/systemMatrix/H_matrix_{SETTING}.npy\")\n",
    "H = sio.mmread(f\"{DATA_PATH}/240818/systemMatrix/H_sparse_{H_SETTING}.mtx\").tocsr()\n",
    "print(\"Loaded H\")"
   ]
  },
  {
   "cell_type": "code",
   "execution_count": null,
   "metadata": {},
   "outputs": [],
   "source": [
    "H = H.toarray()\n",
    "D = D.toarray()"
   ]
  },
  {
   "cell_type": "code",
   "execution_count": null,
   "metadata": {},
   "outputs": [],
   "source": [
    "admm = admm.Admm(H, g, D, tau)\n",
    "f, err = admm.solve()"
   ]
  },
  {
   "cell_type": "code",
   "execution_count": null,
   "metadata": {},
   "outputs": [],
   "source": [
    "f = np.clip(f, 0, 1) * 255\n",
    "F = f.reshape(n, n)\n",
    "F = F.astype(np.uint8)\n",
    "F_image = Image.fromarray(F)\n",
    "F_image.save(f\"{DATA_PATH}/240818/reconst/{OBJ_NAME}_admm_t-{tau}.png\")\n",
    "print(f\"Saved {DATA_PATH}/240818/reconst/{OBJ_NAME}_admm_t-{tau}.png\")"
   ]
  }
 ],
 "metadata": {
  "kernelspec": {
   "display_name": "Python 3",
   "language": "python",
   "name": "python3"
  },
  "language_info": {
   "codemirror_mode": {
    "name": "ipython",
    "version": 3
   },
   "file_extension": ".py",
   "mimetype": "text/x-python",
   "name": "python",
   "nbconvert_exporter": "python",
   "pygments_lexer": "ipython3",
   "version": "3.11.8"
  }
 },
 "nbformat": 4,
 "nbformat_minor": 2
}
