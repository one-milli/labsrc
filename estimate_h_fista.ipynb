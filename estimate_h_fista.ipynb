{
 "cells": [
  {
   "cell_type": "code",
   "execution_count": null,
   "metadata": {},
   "outputs": [],
   "source": [
    "import os\n",
    "import time\n",
    "from typing import Callable\n",
    "import numpy as np\n",
    "import cupy as cp\n",
    "import scipy.sparse as ssp\n",
    "import matplotlib.pyplot as plt\n",
    "from PIL import Image\n",
    "from IPython.display import display\n",
    "import package.myUtil as myUtil"
   ]
  },
  {
   "cell_type": "code",
   "execution_count": null,
   "metadata": {},
   "outputs": [],
   "source": [
    "n = 128\n",
    "m = 255\n",
    "LAMBDA = 100\n",
    "RATIO = 0.05\n",
    "# DATA_PATH = \"../../OneDrive - m.titech.ac.jp/Lab/data\"\n",
    "DATA_PATH = \"../data\"\n",
    "IMG_NAME = \"hadamard\"\n",
    "CAP_DATE = \"241114\"\n",
    "EXP_DATE = \"241118\"\n",
    "DIRECTORY = f\"{DATA_PATH}/{EXP_DATE}\"\n",
    "SETTING = f\"p-{int(100*RATIO)}_lmd-{LAMBDA}_m-{m}\"\n",
    "\n",
    "if not os.path.exists(DIRECTORY):\n",
    "    os.makedirs(DIRECTORY)\n",
    "if not os.path.exists(DIRECTORY + \"/systemMatrix\"):\n",
    "    os.makedirs(DIRECTORY + \"/systemMatrix\")"
   ]
  },
  {
   "cell_type": "code",
   "execution_count": null,
   "metadata": {},
   "outputs": [],
   "source": [
    "# load images\n",
    "do_thin_out = False\n",
    "use_list = myUtil.get_use_list(n*n, RATIO)\n",
    "G = myUtil.images2matrix(f\"{DATA_PATH}/{IMG_NAME}{n}_cap_{CAP_DATE}/\", use_list, thin_out=do_thin_out)\n",
    "F = myUtil.images2matrix(f\"{DATA_PATH}/{IMG_NAME}{n}_input/\", use_list).astype(cp.int8)\n",
    "M, K = G.shape\n",
    "N, K = F.shape\n",
    "print(\"G shape:\", G.shape, \"F shape:\", F.shape, \"M=\", M, \"N=\", N, \"K=\", K)\n",
    "print(\"G max:\", G.max(), \"G min:\", G.min(), \"F max:\", F.max(), \"F min:\", F.min())\n",
    "\n",
    "black = myUtil.calculate_bias(M, DATA_PATH, CAP_DATE)\n",
    "B = cp.tile(black[:, None], K)\n",
    "\n",
    "G = G - B\n",
    "\n",
    "white_img = Image.open(f\"{DATA_PATH}/capture_{CAP_DATE}/White.png\").convert(\"L\")\n",
    "white = cp.asarray(white_img) / 255\n",
    "if do_thin_out:\n",
    "    white = white[::2, ::2].ravel() - black\n",
    "else:\n",
    "    white = white.ravel() - black\n",
    "H1 = cp.tile(white[:, None], K)\n",
    "\n",
    "F_hat = (2 * F - 1).astype(cp.float32)\n",
    "G_hat = 2 * G - H1\n",
    "g = G_hat.flatten(order=\"F\").astype(cp.float32)\n",
    "del F, G, H1, G_hat"
   ]
  },
  {
   "cell_type": "code",
   "execution_count": null,
   "metadata": {},
   "outputs": [],
   "source": [
    "def vector2matrixCp(vector: cp.ndarray, s: int, t: int) -> cp.ndarray:\n",
    "    return vector.reshape(s, t, order=\"F\")\n",
    "\n",
    "\n",
    "def mult_mass(X: cp.ndarray, h: cp.ndarray) -> cp.ndarray:\n",
    "    return (h.reshape(-1, X.shape[1], order=\"F\") @ X.T).ravel(order=\"F\")"
   ]
  },
  {
   "cell_type": "code",
   "execution_count": null,
   "metadata": {},
   "outputs": [],
   "source": [
    "def prox_l122(y: cp.ndarray, gamma: float) -> cp.ndarray:\n",
    "    Y = cp.asarray(vector2matrixCp(y, M, N)).astype(cp.float32)\n",
    "    l1_norms = cp.sum(cp.absolute(Y), axis=1)\n",
    "    factor = (2 * gamma) / (1 + 2 * gamma * N)\n",
    "    X = cp.zeros_like(Y)\n",
    "    X = cp.sign(Y) * cp.maximum(cp.absolute(Y) - factor * l1_norms[:, None], 0)\n",
    "    return X.flatten(order=\"F\")\n",
    "\n",
    "\n",
    "def fista(\n",
    "    Ft: cp.ndarray,\n",
    "    g: cp.ndarray,\n",
    "    lmd: float,\n",
    "    prox: Callable[[cp.ndarray, float], cp.ndarray],\n",
    "    max_iter: int = 500,\n",
    "    tol: float = 1e-3,\n",
    ") -> cp.ndarray:\n",
    "    \"\"\"\n",
    "    Solve the optimization problem using FISTA:\n",
    "    min_h ||g - Xh||_2^2 + lambda * ||h||_{1,2}^2\n",
    "\n",
    "    Parameters:\n",
    "    - Ft: numpy array, the matrix Ft\n",
    "    - g: numpy array, the vector g\n",
    "    - lmd: float, the regularization parameter\n",
    "\n",
    "    Returns:\n",
    "    - h: numpy array, the solution vector h\n",
    "    \"\"\"\n",
    "    K = Ft.shape[0]\n",
    "    N = Ft.shape[1]\n",
    "    M = g.shape[0] // K\n",
    "    t = 1\n",
    "    h = cp.zeros(M * N, dtype=cp.float32)\n",
    "    h_old = cp.zeros_like(h)\n",
    "    y = cp.zeros_like(h)\n",
    "\n",
    "    # Lipschitz constant\n",
    "    # L = cp.linalg.norm(Ft.T @ Ft, ord=2) * 3\n",
    "    # print(\"L:\", L)\n",
    "    L = N * 3\n",
    "    gamma = 1 / L\n",
    "\n",
    "    start = time.perf_counter()\n",
    "    for i in range(max_iter):\n",
    "        t_old = t\n",
    "        h_old = h.copy()\n",
    "\n",
    "        h = prox(y - gamma * mult_mass(Ft.T, (mult_mass(Ft, y) - g)), gamma * lmd)\n",
    "        t = (1 + np.sqrt(1 + 4 * t_old**2)) / 2\n",
    "        y = h + (t_old - 1) / t * (h - h_old)\n",
    "\n",
    "        error = cp.linalg.norm(h - h_old) / cp.linalg.norm(h)\n",
    "\n",
    "        print(f\"iter: {i}, error: {error}\")\n",
    "        if error < tol:\n",
    "            break\n",
    "\n",
    "    end = time.perf_counter()\n",
    "    print(f\"Elapsed time: {end-start}\")\n",
    "\n",
    "    return h"
   ]
  },
  {
   "cell_type": "code",
   "execution_count": null,
   "metadata": {},
   "outputs": [],
   "source": [
    "h = fista(F_hat.T, g, LAMBDA, prox_l122)\n",
    "H = h.reshape(M, N, order=\"F\") # cupy\n",
    "print(\"H shape:\", H.shape)"
   ]
  },
  {
   "cell_type": "code",
   "execution_count": null,
   "metadata": {},
   "outputs": [],
   "source": [
    "H_numpy = cp.asnumpy(H)\n",
    "H_sparse = ssp.csr_matrix(H_numpy)"
   ]
  },
  {
   "cell_type": "code",
   "execution_count": null,
   "metadata": {},
   "outputs": [],
   "source": [
    "cp.save(f\"{DIRECTORY}/systemMatrix/H_matrix_{SETTING}.npy\", H)\n",
    "print(f\"Saved {DIRECTORY}/systemMatrix/H_matrix_{SETTING}.npy\")"
   ]
  },
  {
   "cell_type": "code",
   "execution_count": null,
   "metadata": {},
   "outputs": [],
   "source": [
    "SAMPLE_NAME = \"Cameraman\"\n",
    "sample_image = Image.open(f\"{DATA_PATH}/sample_image{n}/{SAMPLE_NAME}.png\").convert(\"L\")\n",
    "sample_image = cp.asarray(sample_image).flatten() / 255\n",
    "\n",
    "FILENAME = f\"{SAMPLE_NAME}_{SETTING}.png\"\n",
    "Hf = H @ sample_image + black\n",
    "Hf = cp.asnumpy(Hf.reshape(m, m))\n",
    "print(\"Hf shape:\", Hf.shape)\n",
    "\n",
    "Hf_pil = Image.fromarray((Hf * 255).astype(np.uint8), mode=\"L\")\n",
    "Hf_pil.save(f\"{DIRECTORY}/{FILENAME}\", format='PNG')\n",
    "print(f\"Saved {DIRECTORY}/{FILENAME}\")\n",
    "display(Hf_pil)\n",
    "\n",
    "plt.imshow(Hf, cmap='gray', interpolation='nearest')\n",
    "plt.colorbar()\n",
    "plt.title('Grayscale Heatmap')\n",
    "plt.show()"
   ]
  }
 ],
 "metadata": {
  "kernelspec": {
   "display_name": "Python 3",
   "language": "python",
   "name": "python3"
  },
  "language_info": {
   "codemirror_mode": {
    "name": "ipython",
    "version": 3
   },
   "file_extension": ".py",
   "mimetype": "text/x-python",
   "name": "python",
   "nbconvert_exporter": "python",
   "pygments_lexer": "ipython3",
   "version": "3.11.8"
  }
 },
 "nbformat": 4,
 "nbformat_minor": 2
}
